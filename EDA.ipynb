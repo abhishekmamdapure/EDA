{
 "cells": [
  {
   "cell_type": "markdown",
   "metadata": {},
   "source": [
    "# Exploratory Data Analysis (EDA)"
   ]
  },
  {
   "cell_type": "markdown",
   "metadata": {},
   "source": [
    "### Importing the libraries "
   ]
  },
  {
   "cell_type": "code",
   "execution_count": 216,
   "metadata": {},
   "outputs": [],
   "source": [
    "import pandas as pd\n",
    "import numpy as np\n",
    "import matplotlib.pyplot as plt\n",
    "import seaborn as sns\n",
    "from sklearn import linear_model, metrics  # for model building \n",
    "from sklearn.model_selection import train_test_split #splitting the data into test and train\n",
    "\n",
    "%matplotlib inline \n",
    "\n",
    "# %matplotlib notebook\n",
    "sns.set_style(\"whitegrid\")"
   ]
  },
  {
   "cell_type": "code",
   "execution_count": 132,
   "metadata": {},
   "outputs": [],
   "source": [
    "df = pd.read_csv(\"dataset.csv\")   # reading the datafile"
   ]
  },
  {
   "cell_type": "markdown",
   "metadata": {},
   "source": [
    "Performing some basic operations after reading the dataset. Like, checking the number of rows & cols, nature of rows and cols etc..."
   ]
  },
  {
   "cell_type": "code",
   "execution_count": 4,
   "metadata": {
    "scrolled": false
   },
   "outputs": [
    {
     "data": {
      "text/html": [
       "<div>\n",
       "<style scoped>\n",
       "    .dataframe tbody tr th:only-of-type {\n",
       "        vertical-align: middle;\n",
       "    }\n",
       "\n",
       "    .dataframe tbody tr th {\n",
       "        vertical-align: top;\n",
       "    }\n",
       "\n",
       "    .dataframe thead th {\n",
       "        text-align: right;\n",
       "    }\n",
       "</style>\n",
       "<table border=\"1\" class=\"dataframe\">\n",
       "  <thead>\n",
       "    <tr style=\"text-align: right;\">\n",
       "      <th></th>\n",
       "      <th>id</th>\n",
       "      <th>date</th>\n",
       "      <th>price</th>\n",
       "      <th>bedrooms</th>\n",
       "      <th>bathrooms</th>\n",
       "      <th>sqft_living</th>\n",
       "      <th>sqft_lot</th>\n",
       "      <th>floors</th>\n",
       "      <th>waterfront</th>\n",
       "      <th>view</th>\n",
       "      <th>...</th>\n",
       "      <th>grade</th>\n",
       "      <th>sqft_above</th>\n",
       "      <th>sqft_basement</th>\n",
       "      <th>yr_built</th>\n",
       "      <th>yr_renovated</th>\n",
       "      <th>zipcode</th>\n",
       "      <th>lat</th>\n",
       "      <th>long</th>\n",
       "      <th>sqft_living15</th>\n",
       "      <th>sqft_lot15</th>\n",
       "    </tr>\n",
       "  </thead>\n",
       "  <tbody>\n",
       "    <tr>\n",
       "      <th>0</th>\n",
       "      <td>7129300520</td>\n",
       "      <td>20141013T000000</td>\n",
       "      <td>221900.0</td>\n",
       "      <td>3</td>\n",
       "      <td>1.00</td>\n",
       "      <td>1180</td>\n",
       "      <td>5650</td>\n",
       "      <td>1.0</td>\n",
       "      <td>0</td>\n",
       "      <td>0</td>\n",
       "      <td>...</td>\n",
       "      <td>7</td>\n",
       "      <td>1180</td>\n",
       "      <td>0</td>\n",
       "      <td>1955</td>\n",
       "      <td>0</td>\n",
       "      <td>98178</td>\n",
       "      <td>47.5112</td>\n",
       "      <td>-122.257</td>\n",
       "      <td>1340</td>\n",
       "      <td>5650</td>\n",
       "    </tr>\n",
       "    <tr>\n",
       "      <th>1</th>\n",
       "      <td>6414100192</td>\n",
       "      <td>20141209T000000</td>\n",
       "      <td>538000.0</td>\n",
       "      <td>3</td>\n",
       "      <td>2.25</td>\n",
       "      <td>2570</td>\n",
       "      <td>7242</td>\n",
       "      <td>2.0</td>\n",
       "      <td>0</td>\n",
       "      <td>0</td>\n",
       "      <td>...</td>\n",
       "      <td>7</td>\n",
       "      <td>2170</td>\n",
       "      <td>400</td>\n",
       "      <td>1951</td>\n",
       "      <td>1991</td>\n",
       "      <td>98125</td>\n",
       "      <td>47.7210</td>\n",
       "      <td>-122.319</td>\n",
       "      <td>1690</td>\n",
       "      <td>7639</td>\n",
       "    </tr>\n",
       "    <tr>\n",
       "      <th>2</th>\n",
       "      <td>5631500400</td>\n",
       "      <td>20150225T000000</td>\n",
       "      <td>180000.0</td>\n",
       "      <td>2</td>\n",
       "      <td>1.00</td>\n",
       "      <td>770</td>\n",
       "      <td>10000</td>\n",
       "      <td>1.0</td>\n",
       "      <td>0</td>\n",
       "      <td>0</td>\n",
       "      <td>...</td>\n",
       "      <td>6</td>\n",
       "      <td>770</td>\n",
       "      <td>0</td>\n",
       "      <td>1933</td>\n",
       "      <td>0</td>\n",
       "      <td>98028</td>\n",
       "      <td>47.7379</td>\n",
       "      <td>-122.233</td>\n",
       "      <td>2720</td>\n",
       "      <td>8062</td>\n",
       "    </tr>\n",
       "    <tr>\n",
       "      <th>3</th>\n",
       "      <td>2487200875</td>\n",
       "      <td>20141209T000000</td>\n",
       "      <td>604000.0</td>\n",
       "      <td>4</td>\n",
       "      <td>3.00</td>\n",
       "      <td>1960</td>\n",
       "      <td>5000</td>\n",
       "      <td>1.0</td>\n",
       "      <td>0</td>\n",
       "      <td>0</td>\n",
       "      <td>...</td>\n",
       "      <td>7</td>\n",
       "      <td>1050</td>\n",
       "      <td>910</td>\n",
       "      <td>1965</td>\n",
       "      <td>0</td>\n",
       "      <td>98136</td>\n",
       "      <td>47.5208</td>\n",
       "      <td>-122.393</td>\n",
       "      <td>1360</td>\n",
       "      <td>5000</td>\n",
       "    </tr>\n",
       "    <tr>\n",
       "      <th>4</th>\n",
       "      <td>1954400510</td>\n",
       "      <td>20150218T000000</td>\n",
       "      <td>510000.0</td>\n",
       "      <td>3</td>\n",
       "      <td>2.00</td>\n",
       "      <td>1680</td>\n",
       "      <td>8080</td>\n",
       "      <td>1.0</td>\n",
       "      <td>0</td>\n",
       "      <td>0</td>\n",
       "      <td>...</td>\n",
       "      <td>8</td>\n",
       "      <td>1680</td>\n",
       "      <td>0</td>\n",
       "      <td>1987</td>\n",
       "      <td>0</td>\n",
       "      <td>98074</td>\n",
       "      <td>47.6168</td>\n",
       "      <td>-122.045</td>\n",
       "      <td>1800</td>\n",
       "      <td>7503</td>\n",
       "    </tr>\n",
       "    <tr>\n",
       "      <th>5</th>\n",
       "      <td>7237550310</td>\n",
       "      <td>20140512T000000</td>\n",
       "      <td>1225000.0</td>\n",
       "      <td>4</td>\n",
       "      <td>4.50</td>\n",
       "      <td>5420</td>\n",
       "      <td>101930</td>\n",
       "      <td>1.0</td>\n",
       "      <td>0</td>\n",
       "      <td>0</td>\n",
       "      <td>...</td>\n",
       "      <td>11</td>\n",
       "      <td>3890</td>\n",
       "      <td>1530</td>\n",
       "      <td>2001</td>\n",
       "      <td>0</td>\n",
       "      <td>98053</td>\n",
       "      <td>47.6561</td>\n",
       "      <td>-122.005</td>\n",
       "      <td>4760</td>\n",
       "      <td>101930</td>\n",
       "    </tr>\n",
       "    <tr>\n",
       "      <th>6</th>\n",
       "      <td>1321400060</td>\n",
       "      <td>20140627T000000</td>\n",
       "      <td>257500.0</td>\n",
       "      <td>3</td>\n",
       "      <td>2.25</td>\n",
       "      <td>1715</td>\n",
       "      <td>6819</td>\n",
       "      <td>2.0</td>\n",
       "      <td>0</td>\n",
       "      <td>0</td>\n",
       "      <td>...</td>\n",
       "      <td>7</td>\n",
       "      <td>1715</td>\n",
       "      <td>0</td>\n",
       "      <td>1995</td>\n",
       "      <td>0</td>\n",
       "      <td>98003</td>\n",
       "      <td>47.3097</td>\n",
       "      <td>-122.327</td>\n",
       "      <td>2238</td>\n",
       "      <td>6819</td>\n",
       "    </tr>\n",
       "    <tr>\n",
       "      <th>7</th>\n",
       "      <td>2008000270</td>\n",
       "      <td>20150115T000000</td>\n",
       "      <td>291850.0</td>\n",
       "      <td>3</td>\n",
       "      <td>1.50</td>\n",
       "      <td>1060</td>\n",
       "      <td>9711</td>\n",
       "      <td>1.0</td>\n",
       "      <td>0</td>\n",
       "      <td>0</td>\n",
       "      <td>...</td>\n",
       "      <td>7</td>\n",
       "      <td>1060</td>\n",
       "      <td>0</td>\n",
       "      <td>1963</td>\n",
       "      <td>0</td>\n",
       "      <td>98198</td>\n",
       "      <td>47.4095</td>\n",
       "      <td>-122.315</td>\n",
       "      <td>1650</td>\n",
       "      <td>9711</td>\n",
       "    </tr>\n",
       "    <tr>\n",
       "      <th>8</th>\n",
       "      <td>2414600126</td>\n",
       "      <td>20150415T000000</td>\n",
       "      <td>229500.0</td>\n",
       "      <td>3</td>\n",
       "      <td>1.00</td>\n",
       "      <td>1780</td>\n",
       "      <td>7470</td>\n",
       "      <td>1.0</td>\n",
       "      <td>0</td>\n",
       "      <td>0</td>\n",
       "      <td>...</td>\n",
       "      <td>7</td>\n",
       "      <td>1050</td>\n",
       "      <td>730</td>\n",
       "      <td>1960</td>\n",
       "      <td>0</td>\n",
       "      <td>98146</td>\n",
       "      <td>47.5123</td>\n",
       "      <td>-122.337</td>\n",
       "      <td>1780</td>\n",
       "      <td>8113</td>\n",
       "    </tr>\n",
       "    <tr>\n",
       "      <th>9</th>\n",
       "      <td>3793500160</td>\n",
       "      <td>20150312T000000</td>\n",
       "      <td>323000.0</td>\n",
       "      <td>3</td>\n",
       "      <td>2.50</td>\n",
       "      <td>1890</td>\n",
       "      <td>6560</td>\n",
       "      <td>2.0</td>\n",
       "      <td>0</td>\n",
       "      <td>0</td>\n",
       "      <td>...</td>\n",
       "      <td>7</td>\n",
       "      <td>1890</td>\n",
       "      <td>0</td>\n",
       "      <td>2003</td>\n",
       "      <td>0</td>\n",
       "      <td>98038</td>\n",
       "      <td>47.3684</td>\n",
       "      <td>-122.031</td>\n",
       "      <td>2390</td>\n",
       "      <td>7570</td>\n",
       "    </tr>\n",
       "  </tbody>\n",
       "</table>\n",
       "<p>10 rows × 21 columns</p>\n",
       "</div>"
      ],
      "text/plain": [
       "           id             date      price  bedrooms  bathrooms  sqft_living  \\\n",
       "0  7129300520  20141013T000000   221900.0         3       1.00         1180   \n",
       "1  6414100192  20141209T000000   538000.0         3       2.25         2570   \n",
       "2  5631500400  20150225T000000   180000.0         2       1.00          770   \n",
       "3  2487200875  20141209T000000   604000.0         4       3.00         1960   \n",
       "4  1954400510  20150218T000000   510000.0         3       2.00         1680   \n",
       "5  7237550310  20140512T000000  1225000.0         4       4.50         5420   \n",
       "6  1321400060  20140627T000000   257500.0         3       2.25         1715   \n",
       "7  2008000270  20150115T000000   291850.0         3       1.50         1060   \n",
       "8  2414600126  20150415T000000   229500.0         3       1.00         1780   \n",
       "9  3793500160  20150312T000000   323000.0         3       2.50         1890   \n",
       "\n",
       "   sqft_lot  floors  waterfront  view  ...  grade  sqft_above  sqft_basement  \\\n",
       "0      5650     1.0           0     0  ...      7        1180              0   \n",
       "1      7242     2.0           0     0  ...      7        2170            400   \n",
       "2     10000     1.0           0     0  ...      6         770              0   \n",
       "3      5000     1.0           0     0  ...      7        1050            910   \n",
       "4      8080     1.0           0     0  ...      8        1680              0   \n",
       "5    101930     1.0           0     0  ...     11        3890           1530   \n",
       "6      6819     2.0           0     0  ...      7        1715              0   \n",
       "7      9711     1.0           0     0  ...      7        1060              0   \n",
       "8      7470     1.0           0     0  ...      7        1050            730   \n",
       "9      6560     2.0           0     0  ...      7        1890              0   \n",
       "\n",
       "   yr_built  yr_renovated  zipcode      lat     long  sqft_living15  \\\n",
       "0      1955             0    98178  47.5112 -122.257           1340   \n",
       "1      1951          1991    98125  47.7210 -122.319           1690   \n",
       "2      1933             0    98028  47.7379 -122.233           2720   \n",
       "3      1965             0    98136  47.5208 -122.393           1360   \n",
       "4      1987             0    98074  47.6168 -122.045           1800   \n",
       "5      2001             0    98053  47.6561 -122.005           4760   \n",
       "6      1995             0    98003  47.3097 -122.327           2238   \n",
       "7      1963             0    98198  47.4095 -122.315           1650   \n",
       "8      1960             0    98146  47.5123 -122.337           1780   \n",
       "9      2003             0    98038  47.3684 -122.031           2390   \n",
       "\n",
       "   sqft_lot15  \n",
       "0        5650  \n",
       "1        7639  \n",
       "2        8062  \n",
       "3        5000  \n",
       "4        7503  \n",
       "5      101930  \n",
       "6        6819  \n",
       "7        9711  \n",
       "8        8113  \n",
       "9        7570  \n",
       "\n",
       "[10 rows x 21 columns]"
      ]
     },
     "execution_count": 4,
     "metadata": {},
     "output_type": "execute_result"
    }
   ],
   "source": [
    "df.head(10)"
   ]
  },
  {
   "cell_type": "code",
   "execution_count": 5,
   "metadata": {},
   "outputs": [
    {
     "data": {
      "text/plain": [
       "(21613, 21)"
      ]
     },
     "execution_count": 5,
     "metadata": {},
     "output_type": "execute_result"
    }
   ],
   "source": [
    "df.shape"
   ]
  },
  {
   "cell_type": "code",
   "execution_count": 144,
   "metadata": {},
   "outputs": [],
   "source": [
    "df = df.drop_duplicates(keep='first')  #to check whether there are any duplicated in the dataset"
   ]
  },
  {
   "cell_type": "code",
   "execution_count": 146,
   "metadata": {},
   "outputs": [
    {
     "data": {
      "text/plain": [
       "id               0\n",
       "date             0\n",
       "price            0\n",
       "bedrooms         0\n",
       "bathrooms        0\n",
       "sqft_living      0\n",
       "sqft_lot         0\n",
       "floors           0\n",
       "waterfront       0\n",
       "view             0\n",
       "condition        0\n",
       "grade            0\n",
       "sqft_above       0\n",
       "sqft_basement    0\n",
       "yr_built         0\n",
       "yr_renovated     0\n",
       "zipcode          0\n",
       "lat              0\n",
       "long             0\n",
       "sqft_living15    0\n",
       "sqft_lot15       0\n",
       "dtype: int64"
      ]
     },
     "execution_count": 146,
     "metadata": {},
     "output_type": "execute_result"
    }
   ],
   "source": [
    "df.isnull().sum() #to check if there are any null values in the dataset "
   ]
  },
  {
   "cell_type": "code",
   "execution_count": 147,
   "metadata": {},
   "outputs": [
    {
     "data": {
      "text/html": [
       "<div>\n",
       "<style scoped>\n",
       "    .dataframe tbody tr th:only-of-type {\n",
       "        vertical-align: middle;\n",
       "    }\n",
       "\n",
       "    .dataframe tbody tr th {\n",
       "        vertical-align: top;\n",
       "    }\n",
       "\n",
       "    .dataframe thead th {\n",
       "        text-align: right;\n",
       "    }\n",
       "</style>\n",
       "<table border=\"1\" class=\"dataframe\">\n",
       "  <thead>\n",
       "    <tr style=\"text-align: right;\">\n",
       "      <th></th>\n",
       "      <th>id</th>\n",
       "      <th>price</th>\n",
       "      <th>bedrooms</th>\n",
       "      <th>bathrooms</th>\n",
       "      <th>sqft_living</th>\n",
       "      <th>sqft_lot</th>\n",
       "      <th>floors</th>\n",
       "      <th>waterfront</th>\n",
       "      <th>view</th>\n",
       "      <th>condition</th>\n",
       "      <th>grade</th>\n",
       "      <th>sqft_above</th>\n",
       "      <th>sqft_basement</th>\n",
       "      <th>yr_built</th>\n",
       "      <th>yr_renovated</th>\n",
       "      <th>zipcode</th>\n",
       "      <th>lat</th>\n",
       "      <th>long</th>\n",
       "      <th>sqft_living15</th>\n",
       "      <th>sqft_lot15</th>\n",
       "    </tr>\n",
       "  </thead>\n",
       "  <tbody>\n",
       "    <tr>\n",
       "      <th>count</th>\n",
       "      <td>2.161300e+04</td>\n",
       "      <td>2.161300e+04</td>\n",
       "      <td>21613.000000</td>\n",
       "      <td>21613.000000</td>\n",
       "      <td>21613.000000</td>\n",
       "      <td>2.161300e+04</td>\n",
       "      <td>21613.000000</td>\n",
       "      <td>21613.000000</td>\n",
       "      <td>21613.000000</td>\n",
       "      <td>21613.000000</td>\n",
       "      <td>21613.000000</td>\n",
       "      <td>21613.000000</td>\n",
       "      <td>21613.000000</td>\n",
       "      <td>21613.000000</td>\n",
       "      <td>21613.000000</td>\n",
       "      <td>21613.000000</td>\n",
       "      <td>21613.000000</td>\n",
       "      <td>21613.000000</td>\n",
       "      <td>21613.000000</td>\n",
       "      <td>21613.000000</td>\n",
       "    </tr>\n",
       "    <tr>\n",
       "      <th>mean</th>\n",
       "      <td>4.580302e+09</td>\n",
       "      <td>5.400881e+05</td>\n",
       "      <td>3.370842</td>\n",
       "      <td>2.114757</td>\n",
       "      <td>2079.899736</td>\n",
       "      <td>1.510697e+04</td>\n",
       "      <td>1.494309</td>\n",
       "      <td>0.007542</td>\n",
       "      <td>0.234303</td>\n",
       "      <td>3.409430</td>\n",
       "      <td>7.656873</td>\n",
       "      <td>1788.390691</td>\n",
       "      <td>291.509045</td>\n",
       "      <td>1971.005136</td>\n",
       "      <td>84.402258</td>\n",
       "      <td>98077.939805</td>\n",
       "      <td>47.560053</td>\n",
       "      <td>-122.213896</td>\n",
       "      <td>1986.552492</td>\n",
       "      <td>12768.455652</td>\n",
       "    </tr>\n",
       "    <tr>\n",
       "      <th>std</th>\n",
       "      <td>2.876566e+09</td>\n",
       "      <td>3.671272e+05</td>\n",
       "      <td>0.930062</td>\n",
       "      <td>0.770163</td>\n",
       "      <td>918.440897</td>\n",
       "      <td>4.142051e+04</td>\n",
       "      <td>0.539989</td>\n",
       "      <td>0.086517</td>\n",
       "      <td>0.766318</td>\n",
       "      <td>0.650743</td>\n",
       "      <td>1.175459</td>\n",
       "      <td>828.090978</td>\n",
       "      <td>442.575043</td>\n",
       "      <td>29.373411</td>\n",
       "      <td>401.679240</td>\n",
       "      <td>53.505026</td>\n",
       "      <td>0.138564</td>\n",
       "      <td>0.140828</td>\n",
       "      <td>685.391304</td>\n",
       "      <td>27304.179631</td>\n",
       "    </tr>\n",
       "    <tr>\n",
       "      <th>min</th>\n",
       "      <td>1.000102e+06</td>\n",
       "      <td>7.500000e+04</td>\n",
       "      <td>0.000000</td>\n",
       "      <td>0.000000</td>\n",
       "      <td>290.000000</td>\n",
       "      <td>5.200000e+02</td>\n",
       "      <td>1.000000</td>\n",
       "      <td>0.000000</td>\n",
       "      <td>0.000000</td>\n",
       "      <td>1.000000</td>\n",
       "      <td>1.000000</td>\n",
       "      <td>290.000000</td>\n",
       "      <td>0.000000</td>\n",
       "      <td>1900.000000</td>\n",
       "      <td>0.000000</td>\n",
       "      <td>98001.000000</td>\n",
       "      <td>47.155900</td>\n",
       "      <td>-122.519000</td>\n",
       "      <td>399.000000</td>\n",
       "      <td>651.000000</td>\n",
       "    </tr>\n",
       "    <tr>\n",
       "      <th>25%</th>\n",
       "      <td>2.123049e+09</td>\n",
       "      <td>3.219500e+05</td>\n",
       "      <td>3.000000</td>\n",
       "      <td>1.750000</td>\n",
       "      <td>1427.000000</td>\n",
       "      <td>5.040000e+03</td>\n",
       "      <td>1.000000</td>\n",
       "      <td>0.000000</td>\n",
       "      <td>0.000000</td>\n",
       "      <td>3.000000</td>\n",
       "      <td>7.000000</td>\n",
       "      <td>1190.000000</td>\n",
       "      <td>0.000000</td>\n",
       "      <td>1951.000000</td>\n",
       "      <td>0.000000</td>\n",
       "      <td>98033.000000</td>\n",
       "      <td>47.471000</td>\n",
       "      <td>-122.328000</td>\n",
       "      <td>1490.000000</td>\n",
       "      <td>5100.000000</td>\n",
       "    </tr>\n",
       "    <tr>\n",
       "      <th>50%</th>\n",
       "      <td>3.904930e+09</td>\n",
       "      <td>4.500000e+05</td>\n",
       "      <td>3.000000</td>\n",
       "      <td>2.250000</td>\n",
       "      <td>1910.000000</td>\n",
       "      <td>7.618000e+03</td>\n",
       "      <td>1.500000</td>\n",
       "      <td>0.000000</td>\n",
       "      <td>0.000000</td>\n",
       "      <td>3.000000</td>\n",
       "      <td>7.000000</td>\n",
       "      <td>1560.000000</td>\n",
       "      <td>0.000000</td>\n",
       "      <td>1975.000000</td>\n",
       "      <td>0.000000</td>\n",
       "      <td>98065.000000</td>\n",
       "      <td>47.571800</td>\n",
       "      <td>-122.230000</td>\n",
       "      <td>1840.000000</td>\n",
       "      <td>7620.000000</td>\n",
       "    </tr>\n",
       "    <tr>\n",
       "      <th>75%</th>\n",
       "      <td>7.308900e+09</td>\n",
       "      <td>6.450000e+05</td>\n",
       "      <td>4.000000</td>\n",
       "      <td>2.500000</td>\n",
       "      <td>2550.000000</td>\n",
       "      <td>1.068800e+04</td>\n",
       "      <td>2.000000</td>\n",
       "      <td>0.000000</td>\n",
       "      <td>0.000000</td>\n",
       "      <td>4.000000</td>\n",
       "      <td>8.000000</td>\n",
       "      <td>2210.000000</td>\n",
       "      <td>560.000000</td>\n",
       "      <td>1997.000000</td>\n",
       "      <td>0.000000</td>\n",
       "      <td>98118.000000</td>\n",
       "      <td>47.678000</td>\n",
       "      <td>-122.125000</td>\n",
       "      <td>2360.000000</td>\n",
       "      <td>10083.000000</td>\n",
       "    </tr>\n",
       "    <tr>\n",
       "      <th>max</th>\n",
       "      <td>9.900000e+09</td>\n",
       "      <td>7.700000e+06</td>\n",
       "      <td>33.000000</td>\n",
       "      <td>8.000000</td>\n",
       "      <td>13540.000000</td>\n",
       "      <td>1.651359e+06</td>\n",
       "      <td>3.500000</td>\n",
       "      <td>1.000000</td>\n",
       "      <td>4.000000</td>\n",
       "      <td>5.000000</td>\n",
       "      <td>13.000000</td>\n",
       "      <td>9410.000000</td>\n",
       "      <td>4820.000000</td>\n",
       "      <td>2015.000000</td>\n",
       "      <td>2015.000000</td>\n",
       "      <td>98199.000000</td>\n",
       "      <td>47.777600</td>\n",
       "      <td>-121.315000</td>\n",
       "      <td>6210.000000</td>\n",
       "      <td>871200.000000</td>\n",
       "    </tr>\n",
       "  </tbody>\n",
       "</table>\n",
       "</div>"
      ],
      "text/plain": [
       "                 id         price      bedrooms     bathrooms   sqft_living  \\\n",
       "count  2.161300e+04  2.161300e+04  21613.000000  21613.000000  21613.000000   \n",
       "mean   4.580302e+09  5.400881e+05      3.370842      2.114757   2079.899736   \n",
       "std    2.876566e+09  3.671272e+05      0.930062      0.770163    918.440897   \n",
       "min    1.000102e+06  7.500000e+04      0.000000      0.000000    290.000000   \n",
       "25%    2.123049e+09  3.219500e+05      3.000000      1.750000   1427.000000   \n",
       "50%    3.904930e+09  4.500000e+05      3.000000      2.250000   1910.000000   \n",
       "75%    7.308900e+09  6.450000e+05      4.000000      2.500000   2550.000000   \n",
       "max    9.900000e+09  7.700000e+06     33.000000      8.000000  13540.000000   \n",
       "\n",
       "           sqft_lot        floors    waterfront          view     condition  \\\n",
       "count  2.161300e+04  21613.000000  21613.000000  21613.000000  21613.000000   \n",
       "mean   1.510697e+04      1.494309      0.007542      0.234303      3.409430   \n",
       "std    4.142051e+04      0.539989      0.086517      0.766318      0.650743   \n",
       "min    5.200000e+02      1.000000      0.000000      0.000000      1.000000   \n",
       "25%    5.040000e+03      1.000000      0.000000      0.000000      3.000000   \n",
       "50%    7.618000e+03      1.500000      0.000000      0.000000      3.000000   \n",
       "75%    1.068800e+04      2.000000      0.000000      0.000000      4.000000   \n",
       "max    1.651359e+06      3.500000      1.000000      4.000000      5.000000   \n",
       "\n",
       "              grade    sqft_above  sqft_basement      yr_built  yr_renovated  \\\n",
       "count  21613.000000  21613.000000   21613.000000  21613.000000  21613.000000   \n",
       "mean       7.656873   1788.390691     291.509045   1971.005136     84.402258   \n",
       "std        1.175459    828.090978     442.575043     29.373411    401.679240   \n",
       "min        1.000000    290.000000       0.000000   1900.000000      0.000000   \n",
       "25%        7.000000   1190.000000       0.000000   1951.000000      0.000000   \n",
       "50%        7.000000   1560.000000       0.000000   1975.000000      0.000000   \n",
       "75%        8.000000   2210.000000     560.000000   1997.000000      0.000000   \n",
       "max       13.000000   9410.000000    4820.000000   2015.000000   2015.000000   \n",
       "\n",
       "            zipcode           lat          long  sqft_living15     sqft_lot15  \n",
       "count  21613.000000  21613.000000  21613.000000   21613.000000   21613.000000  \n",
       "mean   98077.939805     47.560053   -122.213896    1986.552492   12768.455652  \n",
       "std       53.505026      0.138564      0.140828     685.391304   27304.179631  \n",
       "min    98001.000000     47.155900   -122.519000     399.000000     651.000000  \n",
       "25%    98033.000000     47.471000   -122.328000    1490.000000    5100.000000  \n",
       "50%    98065.000000     47.571800   -122.230000    1840.000000    7620.000000  \n",
       "75%    98118.000000     47.678000   -122.125000    2360.000000   10083.000000  \n",
       "max    98199.000000     47.777600   -121.315000    6210.000000  871200.000000  "
      ]
     },
     "execution_count": 147,
     "metadata": {},
     "output_type": "execute_result"
    }
   ],
   "source": [
    "df.describe() # get the detail view of all the attributes"
   ]
  },
  {
   "cell_type": "code",
   "execution_count": 9,
   "metadata": {},
   "outputs": [
    {
     "name": "stdout",
     "output_type": "stream",
     "text": [
      "<class 'pandas.core.frame.DataFrame'>\n",
      "Int64Index: 21613 entries, 0 to 21612\n",
      "Data columns (total 21 columns):\n",
      "id               21613 non-null int64\n",
      "date             21613 non-null object\n",
      "price            21613 non-null float64\n",
      "bedrooms         21613 non-null int64\n",
      "bathrooms        21613 non-null float64\n",
      "sqft_living      21613 non-null int64\n",
      "sqft_lot         21613 non-null int64\n",
      "floors           21613 non-null float64\n",
      "waterfront       21613 non-null int64\n",
      "view             21613 non-null int64\n",
      "condition        21613 non-null int64\n",
      "grade            21613 non-null int64\n",
      "sqft_above       21613 non-null int64\n",
      "sqft_basement    21613 non-null int64\n",
      "yr_built         21613 non-null int64\n",
      "yr_renovated     21613 non-null int64\n",
      "zipcode          21613 non-null int64\n",
      "lat              21613 non-null float64\n",
      "long             21613 non-null float64\n",
      "sqft_living15    21613 non-null int64\n",
      "sqft_lot15       21613 non-null int64\n",
      "dtypes: float64(5), int64(15), object(1)\n",
      "memory usage: 3.6+ MB\n"
     ]
    }
   ],
   "source": [
    "df.info()"
   ]
  },
  {
   "cell_type": "markdown",
   "metadata": {},
   "source": [
    " __Here we can drop the ID col only(not of any use while building the model), as the other cols as of now are important and as well there are no any missing values in the other cols__"
   ]
  },
  {
   "cell_type": "code",
   "execution_count": 10,
   "metadata": {},
   "outputs": [],
   "source": [
    "df.drop('id',axis=1,inplace=True) # deleting the ID cols as it will not contribute to the model. "
   ]
  },
  {
   "cell_type": "code",
   "execution_count": 11,
   "metadata": {},
   "outputs": [
    {
     "data": {
      "text/plain": [
       "Index(['date', 'price', 'bedrooms', 'bathrooms', 'sqft_living', 'sqft_lot',\n",
       "       'floors', 'waterfront', 'view', 'condition', 'grade', 'sqft_above',\n",
       "       'sqft_basement', 'yr_built', 'yr_renovated', 'zipcode', 'lat', 'long',\n",
       "       'sqft_living15', 'sqft_lot15'],\n",
       "      dtype='object')"
      ]
     },
     "execution_count": 11,
     "metadata": {},
     "output_type": "execute_result"
    }
   ],
   "source": [
    "df.columns"
   ]
  },
  {
   "cell_type": "code",
   "execution_count": 12,
   "metadata": {},
   "outputs": [
    {
     "data": {
      "text/plain": [
       "0    21450\n",
       "1      163\n",
       "Name: waterfront, dtype: int64"
      ]
     },
     "execution_count": 12,
     "metadata": {},
     "output_type": "execute_result"
    }
   ],
   "source": [
    "df['waterfront'].value_counts()   # checking the number of datapoints inside that category of the attribute "
   ]
  },
  {
   "cell_type": "code",
   "execution_count": 15,
   "metadata": {},
   "outputs": [
    {
     "data": {
      "text/html": [
       "<div>\n",
       "<style scoped>\n",
       "    .dataframe tbody tr th:only-of-type {\n",
       "        vertical-align: middle;\n",
       "    }\n",
       "\n",
       "    .dataframe tbody tr th {\n",
       "        vertical-align: top;\n",
       "    }\n",
       "\n",
       "    .dataframe thead th {\n",
       "        text-align: right;\n",
       "    }\n",
       "</style>\n",
       "<table border=\"1\" class=\"dataframe\">\n",
       "  <thead>\n",
       "    <tr style=\"text-align: right;\">\n",
       "      <th></th>\n",
       "      <th>count</th>\n",
       "      <th>min</th>\n",
       "      <th>max</th>\n",
       "      <th>mean</th>\n",
       "    </tr>\n",
       "    <tr>\n",
       "      <th>view</th>\n",
       "      <th></th>\n",
       "      <th></th>\n",
       "      <th></th>\n",
       "      <th></th>\n",
       "    </tr>\n",
       "  </thead>\n",
       "  <tbody>\n",
       "    <tr>\n",
       "      <th>0</th>\n",
       "      <td>19489</td>\n",
       "      <td>290</td>\n",
       "      <td>9200</td>\n",
       "      <td>1997.761660</td>\n",
       "    </tr>\n",
       "    <tr>\n",
       "      <th>1</th>\n",
       "      <td>332</td>\n",
       "      <td>570</td>\n",
       "      <td>6300</td>\n",
       "      <td>2568.960843</td>\n",
       "    </tr>\n",
       "    <tr>\n",
       "      <th>2</th>\n",
       "      <td>963</td>\n",
       "      <td>470</td>\n",
       "      <td>10040</td>\n",
       "      <td>2655.257529</td>\n",
       "    </tr>\n",
       "    <tr>\n",
       "      <th>3</th>\n",
       "      <td>510</td>\n",
       "      <td>440</td>\n",
       "      <td>12050</td>\n",
       "      <td>3018.564706</td>\n",
       "    </tr>\n",
       "    <tr>\n",
       "      <th>4</th>\n",
       "      <td>319</td>\n",
       "      <td>680</td>\n",
       "      <td>13540</td>\n",
       "      <td>3351.473354</td>\n",
       "    </tr>\n",
       "  </tbody>\n",
       "</table>\n",
       "</div>"
      ],
      "text/plain": [
       "      count  min    max         mean\n",
       "view                                \n",
       "0     19489  290   9200  1997.761660\n",
       "1       332  570   6300  2568.960843\n",
       "2       963  470  10040  2655.257529\n",
       "3       510  440  12050  3018.564706\n",
       "4       319  680  13540  3351.473354"
      ]
     },
     "execution_count": 15,
     "metadata": {},
     "output_type": "execute_result"
    }
   ],
   "source": [
    "(df.groupby('view').sqft_living.agg(['count','min','max','mean']))  #grouping the attribute to check the mean values corresponding to each group "
   ]
  },
  {
   "cell_type": "code",
   "execution_count": 217,
   "metadata": {},
   "outputs": [
    {
     "data": {
      "text/plain": [
       "<matplotlib.axes._subplots.AxesSubplot at 0x1c9700b1a90>"
      ]
     },
     "execution_count": 217,
     "metadata": {},
     "output_type": "execute_result"
    },
    {
     "data": {
      "image/png": "[encoded data removed]",
      "text/plain": [
       "<Figure size 360x360 with 1 Axes>"
      ]
     },
     "metadata": {},
     "output_type": "display_data"
    }
   ],
   "source": [
    "plt.figure(figsize=(5,5)) # defining the size of the plot \n",
    "df.groupby('grade').price.mean().plot(kind = 'bar')   #exploring the groupby as plot "
   ]
  },
  {
   "cell_type": "code",
   "execution_count": 218,
   "metadata": {},
   "outputs": [
    {
     "data": {
      "text/plain": [
       "<matplotlib.axes._subplots.AxesSubplot at 0x1c9701376a0>"
      ]
     },
     "execution_count": 218,
     "metadata": {},
     "output_type": "execute_result"
    },
    {
     "data": {
      "image/png": "[encoded data removed]",
      "text/plain": [
       "<Figure size 432x288 with 1 Axes>"
      ]
     },
     "metadata": {},
     "output_type": "display_data"
    }
   ],
   "source": [
    "df.groupby('bedrooms').price.mean().plot(kind = 'bar') #checking with all the categorical attributes, how they are distributed towards the target variable "
   ]
  },
  {
   "cell_type": "markdown",
   "metadata": {},
   "source": [
    "### Checking the outliers, which we can do by visualising the data in the various plots and also by defining a function"
   ]
  },
  {
   "cell_type": "markdown",
   "metadata": {},
   "source": [
    "Detecting by the method of box-plot"
   ]
  },
  {
   "cell_type": "code",
   "execution_count": 19,
   "metadata": {},
   "outputs": [
    {
     "data": {
      "text/plain": [
       "Index(['date', 'price', 'bedrooms', 'bathrooms', 'sqft_living', 'sqft_lot',\n",
       "       'floors', 'waterfront', 'view', 'condition', 'grade', 'sqft_above',\n",
       "       'sqft_basement', 'yr_built', 'yr_renovated', 'zipcode', 'lat', 'long',\n",
       "       'sqft_living15', 'sqft_lot15'],\n",
       "      dtype='object')"
      ]
     },
     "execution_count": 19,
     "metadata": {},
     "output_type": "execute_result"
    }
   ],
   "source": [
    "df.columns"
   ]
  },
  {
   "cell_type": "code",
   "execution_count": 150,
   "metadata": {},
   "outputs": [
    {
     "data": {
      "image/png": "[encoded data removed]",
      "text/plain": [
       "<Figure size 432x288 with 1 Axes>"
      ]
     },
     "metadata": {},
     "output_type": "display_data"
    }
   ],
   "source": [
    "y = list(df.bedrooms) \n",
    "plt.boxplot(y) \n",
    "plt.show() "
   ]
  },
  {
   "cell_type": "markdown",
   "metadata": {},
   "source": [
    "Defining a Function to check what all are the outliers for the dataset given.  **(IQR method)**"
   ]
  },
  {
   "cell_type": "code",
   "execution_count": 151,
   "metadata": {},
   "outputs": [],
   "source": [
    "def outlier(x):\n",
    "    q1,q3 = np.percentile(x,[25,75])\n",
    "    iqr = (q3 - q1)\n",
    "    lower_bound = q1 -(1.5 * iqr) \n",
    "    upper_bound = q3 +(1.5 * iqr) \n",
    "    return np.where((x > upper_bound) | ( x < lower_bound))"
   ]
  },
  {
   "cell_type": "code",
   "execution_count": 153,
   "metadata": {},
   "outputs": [
    {
     "data": {
      "text/plain": [
       "(array([  154,   209,   232,   239,   264,   331,   350,   465,   486,\n",
       "          527,   556,   558,   648,   717,   718,   784,   833,   860,\n",
       "          875,   903,  1066,  1135,  1149,  1162,  1163,  1195,  1228,\n",
       "         1241,  1266,  1306,  1315,  1378,  1389,  1413,  1457,  1478,\n",
       "         1503,  1535,  1539,  1595,  1629,  1653,  1660,  1674,  1712,\n",
       "         1718,  1734,  1752,  1882,  1931,  1956,  1971,  1975,  1986,\n",
       "         2008,  2026,  2031,  2070,  2074,  2156,  2306,  2310,  2345,\n",
       "         2366,  2382,  2411,  2496,  2497,  2516,  2567,  2629,  2653,\n",
       "         2668,  2671,  2687,  2709,  2727,  2825,  2852,  2906,  2927,\n",
       "         2930,  2973,  3042,  3079,  3108,  3119,  3152,  3223,  3235,\n",
       "         3253,  3285,  3303,  3338,  3383,  3467,  3489,  3523,  3540,\n",
       "         3541,  3582,  3602,  3613,  3648,  3661,  3720,  3721,  3725,\n",
       "         3745,  3776,  3805,  3837,  3874,  3925,  3936,  3984,  3987,\n",
       "         4024,  4035,  4067,  4089,  4096,  4107,  4146,  4197,  4235,\n",
       "         4240,  4255,  4344,  4390,  4410,  4446,  4581,  4598,  4639,\n",
       "         4651,  4654,  4657,  4701,  4717,  4760,  4832,  4867,  4868,\n",
       "         4890,  5049,  5135,  5138,  5160,  5165,  5168,  5210,  5320,\n",
       "         5369,  5377,  5396,  5425,  5434,  5446,  5504,  5570,  5582,\n",
       "         5752,  5832,  5887,  5890,  6077,  6079,  6086,  6105,  6120,\n",
       "         6153,  6174,  6280,  6303,  6377,  6508,  6562,  6632,  6757,\n",
       "         6775,  6779,  6812,  6862,  6873,  6994,  7017,  7023,  7082,\n",
       "         7118,  7149,  7191,  7252,  7261,  7280,  7372,  7375,  7415,\n",
       "         7619,  7636,  7638,  7651,  7668,  7681,  7723,  7725,  7776,\n",
       "         7844,  7850,  7907,  7932,  7949,  7992,  8080,  8109,  8120,\n",
       "         8133,  8152,  8165,  8198,  8213,  8232,  8262,  8266,  8279,\n",
       "         8385,  8445,  8477,  8484,  8516,  8532,  8533,  8546,  8600,\n",
       "         8619,  8623,  8629,  8692,  8724,  8732,  8757,  8800,  8814,\n",
       "         8914,  8955,  8966,  9037,  9076,  9077,  9096,  9114,  9115,\n",
       "         9131,  9132,  9147,  9191,  9247,  9254,  9272,  9274,  9345,\n",
       "         9406,  9452,  9457,  9501,  9518,  9545,  9563,  9577,  9610,\n",
       "         9613,  9659,  9720,  9721,  9732,  9773,  9776,  9785,  9812,\n",
       "         9820,  9821,  9840,  9854,  9888,  9939,  9945,  9955,  9970,\n",
       "        10017, 10025, 10140, 10210, 10275, 10386, 10480, 10481, 10566,\n",
       "        10607, 10787, 10791, 10958, 10963, 10993, 11013, 11053, 11139,\n",
       "        11172, 11260, 11282, 11365, 11376, 11416, 11442, 11500, 11505,\n",
       "        11574, 11588, 11609, 11642, 11656, 11674, 11685, 11735, 11739,\n",
       "        11742, 11764, 11900, 11921, 11978, 12017, 12075, 12120, 12135,\n",
       "        12208, 12209, 12310, 12311, 12338, 12339, 12374, 12417, 12418,\n",
       "        12459, 12484, 12570, 12578, 12605, 12608, 12653, 12765, 12769,\n",
       "        12777, 12797, 12818, 12824, 12830, 12836, 12872, 12885, 12907,\n",
       "        13057, 13119, 13120, 13148, 13314, 13329, 13377, 13455, 13458,\n",
       "        13496, 13518, 13576, 13642, 13677, 13781, 13843, 13848, 13870,\n",
       "        13954, 14030, 14055, 14096, 14186, 14201, 14255, 14286, 14345,\n",
       "        14353, 14366, 14367, 14386, 14406, 14423, 14450, 14466, 14513,\n",
       "        14638, 14662, 14706, 14858, 14865, 14915, 14987, 15022, 15051,\n",
       "        15070, 15115, 15134, 15161, 15168, 15222, 15246, 15248, 15350,\n",
       "        15381, 15397, 15493, 15521, 15574, 15617, 15670, 15727, 15751,\n",
       "        15793, 15806, 15841, 15867, 15870, 15895, 16016, 16088, 16298,\n",
       "        16313, 16358, 16381, 16425, 16430, 16530, 16554, 16593, 16680,\n",
       "        16720, 16736, 16803, 16829, 16842, 16844, 16866, 16889, 16952,\n",
       "        17087, 17104, 17173, 17235, 17296, 17335, 17385, 17394, 17418,\n",
       "        17453, 17492, 17576, 17679, 17804, 17868, 17875, 17895, 17907,\n",
       "        17960, 17984, 18021, 18052, 18059, 18155, 18164, 18165, 18170,\n",
       "        18182, 18260, 18275, 18307, 18308, 18379, 18409, 18443, 18460,\n",
       "        18477, 18486, 18597, 18645, 18656, 18703, 18704, 18780, 18823,\n",
       "        18858, 18868, 18882, 18903, 18959, 18964, 18975, 19010, 19065,\n",
       "        19109, 19157, 19208, 19225, 19254, 19262, 19273, 19302, 19327,\n",
       "        19417, 19434, 19452, 19461, 19539, 19568, 19656, 19686, 19709,\n",
       "        19793, 19885, 20017, 20326, 20393, 20518, 20578, 20655, 20838,\n",
       "        20853, 20873, 20984, 21043, 21085, 21186, 21226, 21240, 21326,\n",
       "        21332, 21375, 21443, 21519, 21522, 21552], dtype=int64),)"
      ]
     },
     "execution_count": 153,
     "metadata": {},
     "output_type": "execute_result"
    }
   ],
   "source": [
    "#Here we will get all the values that are below the lower bound and above the upper bound\n",
    "outlier(df.bedrooms)"
   ]
  },
  {
   "cell_type": "code",
   "execution_count": 162,
   "metadata": {},
   "outputs": [
    {
     "data": {
      "text/html": [
       "<div>\n",
       "<style scoped>\n",
       "    .dataframe tbody tr th:only-of-type {\n",
       "        vertical-align: middle;\n",
       "    }\n",
       "\n",
       "    .dataframe tbody tr th {\n",
       "        vertical-align: top;\n",
       "    }\n",
       "\n",
       "    .dataframe thead th {\n",
       "        text-align: right;\n",
       "    }\n",
       "</style>\n",
       "<table border=\"1\" class=\"dataframe\">\n",
       "  <thead>\n",
       "    <tr style=\"text-align: right;\">\n",
       "      <th></th>\n",
       "      <th>id</th>\n",
       "      <th>date</th>\n",
       "      <th>price</th>\n",
       "      <th>bedrooms</th>\n",
       "      <th>bathrooms</th>\n",
       "      <th>sqft_living</th>\n",
       "      <th>sqft_lot</th>\n",
       "      <th>floors</th>\n",
       "      <th>waterfront</th>\n",
       "      <th>view</th>\n",
       "      <th>...</th>\n",
       "      <th>grade</th>\n",
       "      <th>sqft_above</th>\n",
       "      <th>sqft_basement</th>\n",
       "      <th>yr_built</th>\n",
       "      <th>yr_renovated</th>\n",
       "      <th>zipcode</th>\n",
       "      <th>lat</th>\n",
       "      <th>long</th>\n",
       "      <th>sqft_living15</th>\n",
       "      <th>sqft_lot15</th>\n",
       "    </tr>\n",
       "  </thead>\n",
       "  <tbody>\n",
       "    <tr>\n",
       "      <th>15161</th>\n",
       "      <td>5566100170</td>\n",
       "      <td>20141029T000000</td>\n",
       "      <td>650000.0</td>\n",
       "      <td>10</td>\n",
       "      <td>2.00</td>\n",
       "      <td>3610</td>\n",
       "      <td>11914</td>\n",
       "      <td>2.0</td>\n",
       "      <td>0</td>\n",
       "      <td>0</td>\n",
       "      <td>...</td>\n",
       "      <td>7</td>\n",
       "      <td>3010</td>\n",
       "      <td>600</td>\n",
       "      <td>1958</td>\n",
       "      <td>0</td>\n",
       "      <td>98006</td>\n",
       "      <td>47.5705</td>\n",
       "      <td>-122.175</td>\n",
       "      <td>2040</td>\n",
       "      <td>11914</td>\n",
       "    </tr>\n",
       "    <tr>\n",
       "      <th>19254</th>\n",
       "      <td>8812401450</td>\n",
       "      <td>20141229T000000</td>\n",
       "      <td>660000.0</td>\n",
       "      <td>10</td>\n",
       "      <td>3.00</td>\n",
       "      <td>2920</td>\n",
       "      <td>3745</td>\n",
       "      <td>2.0</td>\n",
       "      <td>0</td>\n",
       "      <td>0</td>\n",
       "      <td>...</td>\n",
       "      <td>7</td>\n",
       "      <td>1860</td>\n",
       "      <td>1060</td>\n",
       "      <td>1913</td>\n",
       "      <td>0</td>\n",
       "      <td>98105</td>\n",
       "      <td>47.6635</td>\n",
       "      <td>-122.320</td>\n",
       "      <td>1810</td>\n",
       "      <td>3745</td>\n",
       "    </tr>\n",
       "    <tr>\n",
       "      <th>13314</th>\n",
       "      <td>627300145</td>\n",
       "      <td>20140814T000000</td>\n",
       "      <td>1148000.0</td>\n",
       "      <td>10</td>\n",
       "      <td>5.25</td>\n",
       "      <td>4590</td>\n",
       "      <td>10920</td>\n",
       "      <td>1.0</td>\n",
       "      <td>0</td>\n",
       "      <td>2</td>\n",
       "      <td>...</td>\n",
       "      <td>9</td>\n",
       "      <td>2500</td>\n",
       "      <td>2090</td>\n",
       "      <td>2008</td>\n",
       "      <td>0</td>\n",
       "      <td>98004</td>\n",
       "      <td>47.5861</td>\n",
       "      <td>-122.113</td>\n",
       "      <td>2730</td>\n",
       "      <td>10400</td>\n",
       "    </tr>\n",
       "    <tr>\n",
       "      <th>4235</th>\n",
       "      <td>2902200015</td>\n",
       "      <td>20150106T000000</td>\n",
       "      <td>700000.0</td>\n",
       "      <td>9</td>\n",
       "      <td>3.00</td>\n",
       "      <td>3680</td>\n",
       "      <td>4400</td>\n",
       "      <td>2.0</td>\n",
       "      <td>0</td>\n",
       "      <td>0</td>\n",
       "      <td>...</td>\n",
       "      <td>7</td>\n",
       "      <td>2830</td>\n",
       "      <td>850</td>\n",
       "      <td>1908</td>\n",
       "      <td>0</td>\n",
       "      <td>98102</td>\n",
       "      <td>47.6374</td>\n",
       "      <td>-122.324</td>\n",
       "      <td>1960</td>\n",
       "      <td>2450</td>\n",
       "    </tr>\n",
       "    <tr>\n",
       "      <th>16844</th>\n",
       "      <td>8823900290</td>\n",
       "      <td>20150317T000000</td>\n",
       "      <td>1400000.0</td>\n",
       "      <td>9</td>\n",
       "      <td>4.00</td>\n",
       "      <td>4620</td>\n",
       "      <td>5508</td>\n",
       "      <td>2.5</td>\n",
       "      <td>0</td>\n",
       "      <td>0</td>\n",
       "      <td>...</td>\n",
       "      <td>11</td>\n",
       "      <td>3870</td>\n",
       "      <td>750</td>\n",
       "      <td>1915</td>\n",
       "      <td>0</td>\n",
       "      <td>98105</td>\n",
       "      <td>47.6684</td>\n",
       "      <td>-122.309</td>\n",
       "      <td>2710</td>\n",
       "      <td>4320</td>\n",
       "    </tr>\n",
       "  </tbody>\n",
       "</table>\n",
       "<p>5 rows × 21 columns</p>\n",
       "</div>"
      ],
      "text/plain": [
       "               id             date      price  bedrooms  bathrooms  \\\n",
       "15161  5566100170  20141029T000000   650000.0        10       2.00   \n",
       "19254  8812401450  20141229T000000   660000.0        10       3.00   \n",
       "13314   627300145  20140814T000000  1148000.0        10       5.25   \n",
       "4235   2902200015  20150106T000000   700000.0         9       3.00   \n",
       "16844  8823900290  20150317T000000  1400000.0         9       4.00   \n",
       "\n",
       "       sqft_living  sqft_lot  floors  waterfront  view  ...  grade  \\\n",
       "15161         3610     11914     2.0           0     0  ...      7   \n",
       "19254         2920      3745     2.0           0     0  ...      7   \n",
       "13314         4590     10920     1.0           0     2  ...      9   \n",
       "4235          3680      4400     2.0           0     0  ...      7   \n",
       "16844         4620      5508     2.5           0     0  ...     11   \n",
       "\n",
       "       sqft_above  sqft_basement  yr_built  yr_renovated  zipcode      lat  \\\n",
       "15161        3010            600      1958             0    98006  47.5705   \n",
       "19254        1860           1060      1913             0    98105  47.6635   \n",
       "13314        2500           2090      2008             0    98004  47.5861   \n",
       "4235         2830            850      1908             0    98102  47.6374   \n",
       "16844        3870            750      1915             0    98105  47.6684   \n",
       "\n",
       "          long  sqft_living15  sqft_lot15  \n",
       "15161 -122.175           2040       11914  \n",
       "19254 -122.320           1810        3745  \n",
       "13314 -122.113           2730       10400  \n",
       "4235  -122.324           1960        2450  \n",
       "16844 -122.309           2710        4320  \n",
       "\n",
       "[5 rows x 21 columns]"
      ]
     },
     "execution_count": 162,
     "metadata": {},
     "output_type": "execute_result"
    }
   ],
   "source": [
    "df.sort_values(by='bedrooms',ascending=False).head()  "
   ]
  },
  {
   "cell_type": "markdown",
   "metadata": {},
   "source": [
    "Here, for the bedroom col we can see that some of the rows has the value for the count of 33 bedrooms which is a outlier for this dataset as it is disturbing the other values so for now, we can delete the 2 rows for the bedroom with the count 33 and 11.  "
   ]
  },
  {
   "cell_type": "code",
   "execution_count": 159,
   "metadata": {},
   "outputs": [],
   "source": [
    "df.drop(df.index[15870],inplace=True)"
   ]
  },
  {
   "cell_type": "code",
   "execution_count": 161,
   "metadata": {},
   "outputs": [],
   "source": [
    "df.drop(df.index[8757],inplace=True)"
   ]
  },
  {
   "cell_type": "markdown",
   "metadata": {},
   "source": [
    "#### Let's check the distribution of all the attributes in the dataset"
   ]
  },
  {
   "cell_type": "code",
   "execution_count": 163,
   "metadata": {},
   "outputs": [
    {
     "data": {
      "text/plain": [
       "Index(['id', 'date', 'price', 'bedrooms', 'bathrooms', 'sqft_living',\n",
       "       'sqft_lot', 'floors', 'waterfront', 'view', 'condition', 'grade',\n",
       "       'sqft_above', 'sqft_basement', 'yr_built', 'yr_renovated', 'zipcode',\n",
       "       'lat', 'long', 'sqft_living15', 'sqft_lot15'],\n",
       "      dtype='object')"
      ]
     },
     "execution_count": 163,
     "metadata": {},
     "output_type": "execute_result"
    }
   ],
   "source": [
    "df.columns"
   ]
  },
  {
   "cell_type": "code",
   "execution_count": 219,
   "metadata": {},
   "outputs": [
    {
     "data": {
      "image/png": "[encoded data removed]",
      "text/plain": [
       "<Figure size 576x504 with 1 Axes>"
      ]
     },
     "metadata": {},
     "output_type": "display_data"
    }
   ],
   "source": [
    "plt.figure(figsize=(8,7 ))\n",
    "sns.distplot((df['price']), color='b', bins=100, hist_kws={'alpha': 0.3}) \n",
    "plt.show()"
   ]
  },
  {
   "cell_type": "markdown",
   "metadata": {},
   "source": [
    "The above plotted hist for **\"price\"** is much skewed to the left  side, and for the model to be built we must **normalise** the data."
   ]
  },
  {
   "cell_type": "markdown",
   "metadata": {},
   "source": [
    "    Checking the distribution for all the other attributes (continious)"
   ]
  },
  {
   "cell_type": "code",
   "execution_count": 165,
   "metadata": {},
   "outputs": [
    {
     "name": "stdout",
     "output_type": "stream",
     "text": [
      "int64\n",
      "object\n",
      "float64\n",
      "int64\n",
      "float64\n",
      "int64\n",
      "int64\n",
      "float64\n",
      "int64\n",
      "int64\n",
      "int64\n",
      "int64\n",
      "int64\n",
      "int64\n",
      "int64\n",
      "int64\n",
      "int64\n",
      "float64\n",
      "float64\n",
      "int64\n",
      "int64\n",
      "21\n"
     ]
    }
   ],
   "source": [
    "list(set(df.dtypes.tolist()))\n",
    "for i in df.columns:\n",
    "    print(df[i].dtype)\n",
    "print(len(df.columns))\n",
    "\n",
    "# here we can drop the date col as it will not show up in the plot being a object attribute,for now and try to check the distribution of all the other attributes "
   ]
  },
  {
   "cell_type": "code",
   "execution_count": 169,
   "metadata": {},
   "outputs": [
    {
     "name": "stderr",
     "output_type": "stream",
     "text": [
      "C:\\Users\\Admin\\Anaconda3\\lib\\site-packages\\pandas\\core\\frame.py:3940: SettingWithCopyWarning: \n",
      "A value is trying to be set on a copy of a slice from a DataFrame\n",
      "\n",
      "See the caveats in the documentation: http://pandas.pydata.org/pandas-docs/stable/indexing.html#indexing-view-versus-copy\n",
      "  errors=errors)\n"
     ]
    },
    {
     "data": {
      "text/html": [
       "<div>\n",
       "<style scoped>\n",
       "    .dataframe tbody tr th:only-of-type {\n",
       "        vertical-align: middle;\n",
       "    }\n",
       "\n",
       "    .dataframe tbody tr th {\n",
       "        vertical-align: top;\n",
       "    }\n",
       "\n",
       "    .dataframe thead th {\n",
       "        text-align: right;\n",
       "    }\n",
       "</style>\n",
       "<table border=\"1\" class=\"dataframe\">\n",
       "  <thead>\n",
       "    <tr style=\"text-align: right;\">\n",
       "      <th></th>\n",
       "      <th>price</th>\n",
       "      <th>bedrooms</th>\n",
       "      <th>bathrooms</th>\n",
       "      <th>sqft_living</th>\n",
       "      <th>sqft_lot</th>\n",
       "      <th>floors</th>\n",
       "      <th>waterfront</th>\n",
       "      <th>view</th>\n",
       "      <th>condition</th>\n",
       "      <th>grade</th>\n",
       "      <th>sqft_above</th>\n",
       "      <th>sqft_basement</th>\n",
       "      <th>yr_built</th>\n",
       "      <th>yr_renovated</th>\n",
       "      <th>zipcode</th>\n",
       "      <th>lat</th>\n",
       "      <th>long</th>\n",
       "      <th>sqft_living15</th>\n",
       "      <th>sqft_lot15</th>\n",
       "    </tr>\n",
       "  </thead>\n",
       "  <tbody>\n",
       "    <tr>\n",
       "      <th>0</th>\n",
       "      <td>221900.0</td>\n",
       "      <td>3</td>\n",
       "      <td>1.00</td>\n",
       "      <td>1180</td>\n",
       "      <td>5650</td>\n",
       "      <td>1.0</td>\n",
       "      <td>0</td>\n",
       "      <td>0</td>\n",
       "      <td>3</td>\n",
       "      <td>7</td>\n",
       "      <td>1180</td>\n",
       "      <td>0</td>\n",
       "      <td>1955</td>\n",
       "      <td>0</td>\n",
       "      <td>98178</td>\n",
       "      <td>47.5112</td>\n",
       "      <td>-122.257</td>\n",
       "      <td>1340</td>\n",
       "      <td>5650</td>\n",
       "    </tr>\n",
       "    <tr>\n",
       "      <th>1</th>\n",
       "      <td>538000.0</td>\n",
       "      <td>3</td>\n",
       "      <td>2.25</td>\n",
       "      <td>2570</td>\n",
       "      <td>7242</td>\n",
       "      <td>2.0</td>\n",
       "      <td>0</td>\n",
       "      <td>0</td>\n",
       "      <td>3</td>\n",
       "      <td>7</td>\n",
       "      <td>2170</td>\n",
       "      <td>400</td>\n",
       "      <td>1951</td>\n",
       "      <td>1991</td>\n",
       "      <td>98125</td>\n",
       "      <td>47.7210</td>\n",
       "      <td>-122.319</td>\n",
       "      <td>1690</td>\n",
       "      <td>7639</td>\n",
       "    </tr>\n",
       "    <tr>\n",
       "      <th>2</th>\n",
       "      <td>180000.0</td>\n",
       "      <td>2</td>\n",
       "      <td>1.00</td>\n",
       "      <td>770</td>\n",
       "      <td>10000</td>\n",
       "      <td>1.0</td>\n",
       "      <td>0</td>\n",
       "      <td>0</td>\n",
       "      <td>3</td>\n",
       "      <td>6</td>\n",
       "      <td>770</td>\n",
       "      <td>0</td>\n",
       "      <td>1933</td>\n",
       "      <td>0</td>\n",
       "      <td>98028</td>\n",
       "      <td>47.7379</td>\n",
       "      <td>-122.233</td>\n",
       "      <td>2720</td>\n",
       "      <td>8062</td>\n",
       "    </tr>\n",
       "    <tr>\n",
       "      <th>3</th>\n",
       "      <td>604000.0</td>\n",
       "      <td>4</td>\n",
       "      <td>3.00</td>\n",
       "      <td>1960</td>\n",
       "      <td>5000</td>\n",
       "      <td>1.0</td>\n",
       "      <td>0</td>\n",
       "      <td>0</td>\n",
       "      <td>5</td>\n",
       "      <td>7</td>\n",
       "      <td>1050</td>\n",
       "      <td>910</td>\n",
       "      <td>1965</td>\n",
       "      <td>0</td>\n",
       "      <td>98136</td>\n",
       "      <td>47.5208</td>\n",
       "      <td>-122.393</td>\n",
       "      <td>1360</td>\n",
       "      <td>5000</td>\n",
       "    </tr>\n",
       "    <tr>\n",
       "      <th>4</th>\n",
       "      <td>510000.0</td>\n",
       "      <td>3</td>\n",
       "      <td>2.00</td>\n",
       "      <td>1680</td>\n",
       "      <td>8080</td>\n",
       "      <td>1.0</td>\n",
       "      <td>0</td>\n",
       "      <td>0</td>\n",
       "      <td>3</td>\n",
       "      <td>8</td>\n",
       "      <td>1680</td>\n",
       "      <td>0</td>\n",
       "      <td>1987</td>\n",
       "      <td>0</td>\n",
       "      <td>98074</td>\n",
       "      <td>47.6168</td>\n",
       "      <td>-122.045</td>\n",
       "      <td>1800</td>\n",
       "      <td>7503</td>\n",
       "    </tr>\n",
       "  </tbody>\n",
       "</table>\n",
       "</div>"
      ],
      "text/plain": [
       "      price  bedrooms  bathrooms  sqft_living  sqft_lot  floors  waterfront  \\\n",
       "0  221900.0         3       1.00         1180      5650     1.0           0   \n",
       "1  538000.0         3       2.25         2570      7242     2.0           0   \n",
       "2  180000.0         2       1.00          770     10000     1.0           0   \n",
       "3  604000.0         4       3.00         1960      5000     1.0           0   \n",
       "4  510000.0         3       2.00         1680      8080     1.0           0   \n",
       "\n",
       "   view  condition  grade  sqft_above  sqft_basement  yr_built  yr_renovated  \\\n",
       "0     0          3      7        1180              0      1955             0   \n",
       "1     0          3      7        2170            400      1951          1991   \n",
       "2     0          3      6         770              0      1933             0   \n",
       "3     0          5      7        1050            910      1965             0   \n",
       "4     0          3      8        1680              0      1987             0   \n",
       "\n",
       "   zipcode      lat     long  sqft_living15  sqft_lot15  \n",
       "0    98178  47.5112 -122.257           1340        5650  \n",
       "1    98125  47.7210 -122.319           1690        7639  \n",
       "2    98028  47.7379 -122.233           2720        8062  \n",
       "3    98136  47.5208 -122.393           1360        5000  \n",
       "4    98074  47.6168 -122.045           1800        7503  "
      ]
     },
     "execution_count": 169,
     "metadata": {},
     "output_type": "execute_result"
    }
   ],
   "source": [
    "df_num = df.select_dtypes(include=['float64','int64'])\n",
    "df_num.drop('id',axis=1,inplace=True)\n",
    "df_num.head()"
   ]
  },
  {
   "cell_type": "code",
   "execution_count": 170,
   "metadata": {},
   "outputs": [
    {
     "data": {
      "text/plain": [
       "array([[<matplotlib.axes._subplots.AxesSubplot object at 0x000001C967678E48>,\n",
       "        <matplotlib.axes._subplots.AxesSubplot object at 0x000001C96C34BA58>,\n",
       "        <matplotlib.axes._subplots.AxesSubplot object at 0x000001C96B70E2E8>,\n",
       "        <matplotlib.axes._subplots.AxesSubplot object at 0x000001C96C444828>],\n",
       "       [<matplotlib.axes._subplots.AxesSubplot object at 0x000001C96BC77208>,\n",
       "        <matplotlib.axes._subplots.AxesSubplot object at 0x000001C96BC88BA8>,\n",
       "        <matplotlib.axes._subplots.AxesSubplot object at 0x000001C96BCAD588>,\n",
       "        <matplotlib.axes._subplots.AxesSubplot object at 0x000001C96BCD9F60>],\n",
       "       [<matplotlib.axes._subplots.AxesSubplot object at 0x000001C96BCD9F98>,\n",
       "        <matplotlib.axes._subplots.AxesSubplot object at 0x000001C96BD4C2E8>,\n",
       "        <matplotlib.axes._subplots.AxesSubplot object at 0x000001C96BD7CC88>,\n",
       "        <matplotlib.axes._subplots.AxesSubplot object at 0x000001C96BDB5668>],\n",
       "       [<matplotlib.axes._subplots.AxesSubplot object at 0x000001C96BDF2048>,\n",
       "        <matplotlib.axes._subplots.AxesSubplot object at 0x000001C96BE1E9E8>,\n",
       "        <matplotlib.axes._subplots.AxesSubplot object at 0x000001C96BE5B3C8>,\n",
       "        <matplotlib.axes._subplots.AxesSubplot object at 0x000001C96BE8BD68>],\n",
       "       [<matplotlib.axes._subplots.AxesSubplot object at 0x000001C96BEC1748>,\n",
       "        <matplotlib.axes._subplots.AxesSubplot object at 0x000001C96C15F128>,\n",
       "        <matplotlib.axes._subplots.AxesSubplot object at 0x000001C96C18AAC8>,\n",
       "        <matplotlib.axes._subplots.AxesSubplot object at 0x000001C96C1C54A8>]],\n",
       "      dtype=object)"
      ]
     },
     "execution_count": 170,
     "metadata": {},
     "output_type": "execute_result"
    },
    {
     "data": {
      "image/png": "[encoded data removed]",
      "text/plain": [
       "<Figure size 1152x1440 with 20 Axes>"
      ]
     },
     "metadata": {},
     "output_type": "display_data"
    }
   ],
   "source": [
    "df_num.hist(figsize=(16, 20), bins=50, xlabelsize=10, ylabelsize=10) "
   ]
  },
  {
   "cell_type": "markdown",
   "metadata": {},
   "source": [
    "### Checking the correlation between the attributes in the dataset "
   ]
  },
  {
   "cell_type": "code",
   "execution_count": 171,
   "metadata": {},
   "outputs": [
    {
     "data": {
      "text/html": [
       "<div>\n",
       "<style scoped>\n",
       "    .dataframe tbody tr th:only-of-type {\n",
       "        vertical-align: middle;\n",
       "    }\n",
       "\n",
       "    .dataframe tbody tr th {\n",
       "        vertical-align: top;\n",
       "    }\n",
       "\n",
       "    .dataframe thead th {\n",
       "        text-align: right;\n",
       "    }\n",
       "</style>\n",
       "<table border=\"1\" class=\"dataframe\">\n",
       "  <thead>\n",
       "    <tr style=\"text-align: right;\">\n",
       "      <th></th>\n",
       "      <th>price</th>\n",
       "      <th>bedrooms</th>\n",
       "      <th>bathrooms</th>\n",
       "      <th>sqft_living</th>\n",
       "      <th>sqft_lot</th>\n",
       "      <th>floors</th>\n",
       "      <th>waterfront</th>\n",
       "      <th>view</th>\n",
       "      <th>condition</th>\n",
       "      <th>grade</th>\n",
       "      <th>sqft_above</th>\n",
       "      <th>sqft_basement</th>\n",
       "      <th>yr_built</th>\n",
       "      <th>yr_renovated</th>\n",
       "      <th>zipcode</th>\n",
       "      <th>lat</th>\n",
       "      <th>long</th>\n",
       "      <th>sqft_living15</th>\n",
       "      <th>sqft_lot15</th>\n",
       "    </tr>\n",
       "  </thead>\n",
       "  <tbody>\n",
       "    <tr>\n",
       "      <th>price</th>\n",
       "      <td>1.000000</td>\n",
       "      <td>0.315983</td>\n",
       "      <td>0.525166</td>\n",
       "      <td>0.702066</td>\n",
       "      <td>0.089663</td>\n",
       "      <td>0.256818</td>\n",
       "      <td>0.266371</td>\n",
       "      <td>0.397299</td>\n",
       "      <td>0.036335</td>\n",
       "      <td>0.667451</td>\n",
       "      <td>0.605601</td>\n",
       "      <td>0.323817</td>\n",
       "      <td>0.054022</td>\n",
       "      <td>0.126515</td>\n",
       "      <td>-0.053208</td>\n",
       "      <td>0.306998</td>\n",
       "      <td>0.021635</td>\n",
       "      <td>0.585412</td>\n",
       "      <td>0.082451</td>\n",
       "    </tr>\n",
       "    <tr>\n",
       "      <th>bedrooms</th>\n",
       "      <td>0.315983</td>\n",
       "      <td>1.000000</td>\n",
       "      <td>0.529594</td>\n",
       "      <td>0.592060</td>\n",
       "      <td>0.032956</td>\n",
       "      <td>0.181020</td>\n",
       "      <td>-0.006588</td>\n",
       "      <td>0.082183</td>\n",
       "      <td>0.025765</td>\n",
       "      <td>0.367323</td>\n",
       "      <td>0.491122</td>\n",
       "      <td>0.309729</td>\n",
       "      <td>0.160143</td>\n",
       "      <td>0.017802</td>\n",
       "      <td>-0.157555</td>\n",
       "      <td>-0.010547</td>\n",
       "      <td>0.134518</td>\n",
       "      <td>0.403613</td>\n",
       "      <td>0.030564</td>\n",
       "    </tr>\n",
       "    <tr>\n",
       "      <th>bathrooms</th>\n",
       "      <td>0.525166</td>\n",
       "      <td>0.529594</td>\n",
       "      <td>1.000000</td>\n",
       "      <td>0.754650</td>\n",
       "      <td>0.087751</td>\n",
       "      <td>0.500621</td>\n",
       "      <td>0.063749</td>\n",
       "      <td>0.187754</td>\n",
       "      <td>-0.124918</td>\n",
       "      <td>0.665033</td>\n",
       "      <td>0.685329</td>\n",
       "      <td>0.283763</td>\n",
       "      <td>0.506162</td>\n",
       "      <td>0.050509</td>\n",
       "      <td>-0.203894</td>\n",
       "      <td>0.024596</td>\n",
       "      <td>0.223097</td>\n",
       "      <td>0.568699</td>\n",
       "      <td>0.087188</td>\n",
       "    </tr>\n",
       "    <tr>\n",
       "      <th>sqft_living</th>\n",
       "      <td>0.702066</td>\n",
       "      <td>0.592060</td>\n",
       "      <td>0.754650</td>\n",
       "      <td>1.000000</td>\n",
       "      <td>0.172837</td>\n",
       "      <td>0.353909</td>\n",
       "      <td>0.103823</td>\n",
       "      <td>0.284628</td>\n",
       "      <td>-0.058677</td>\n",
       "      <td>0.762751</td>\n",
       "      <td>0.876594</td>\n",
       "      <td>0.435048</td>\n",
       "      <td>0.318152</td>\n",
       "      <td>0.055168</td>\n",
       "      <td>-0.199452</td>\n",
       "      <td>0.052555</td>\n",
       "      <td>0.240270</td>\n",
       "      <td>0.756486</td>\n",
       "      <td>0.183298</td>\n",
       "    </tr>\n",
       "    <tr>\n",
       "      <th>sqft_lot</th>\n",
       "      <td>0.089663</td>\n",
       "      <td>0.032956</td>\n",
       "      <td>0.087751</td>\n",
       "      <td>0.172837</td>\n",
       "      <td>1.000000</td>\n",
       "      <td>-0.005200</td>\n",
       "      <td>0.021602</td>\n",
       "      <td>0.074704</td>\n",
       "      <td>-0.008942</td>\n",
       "      <td>0.113611</td>\n",
       "      <td>0.183518</td>\n",
       "      <td>0.015301</td>\n",
       "      <td>0.053057</td>\n",
       "      <td>0.007699</td>\n",
       "      <td>-0.129566</td>\n",
       "      <td>-0.085676</td>\n",
       "      <td>0.229511</td>\n",
       "      <td>0.144595</td>\n",
       "      <td>0.718555</td>\n",
       "    </tr>\n",
       "    <tr>\n",
       "      <th>floors</th>\n",
       "      <td>0.256818</td>\n",
       "      <td>0.181020</td>\n",
       "      <td>0.500621</td>\n",
       "      <td>0.353909</td>\n",
       "      <td>-0.005200</td>\n",
       "      <td>1.000000</td>\n",
       "      <td>0.023699</td>\n",
       "      <td>0.029445</td>\n",
       "      <td>-0.263686</td>\n",
       "      <td>0.458208</td>\n",
       "      <td>0.523852</td>\n",
       "      <td>-0.245722</td>\n",
       "      <td>0.489427</td>\n",
       "      <td>0.006126</td>\n",
       "      <td>-0.059127</td>\n",
       "      <td>0.049657</td>\n",
       "      <td>0.125440</td>\n",
       "      <td>0.279902</td>\n",
       "      <td>-0.011270</td>\n",
       "    </tr>\n",
       "    <tr>\n",
       "      <th>waterfront</th>\n",
       "      <td>0.266371</td>\n",
       "      <td>-0.006588</td>\n",
       "      <td>0.063749</td>\n",
       "      <td>0.103823</td>\n",
       "      <td>0.021602</td>\n",
       "      <td>0.023699</td>\n",
       "      <td>1.000000</td>\n",
       "      <td>0.401857</td>\n",
       "      <td>0.016663</td>\n",
       "      <td>0.082772</td>\n",
       "      <td>0.072076</td>\n",
       "      <td>0.080595</td>\n",
       "      <td>-0.026174</td>\n",
       "      <td>0.092952</td>\n",
       "      <td>0.030289</td>\n",
       "      <td>-0.014270</td>\n",
       "      <td>-0.041920</td>\n",
       "      <td>0.086459</td>\n",
       "      <td>0.030701</td>\n",
       "    </tr>\n",
       "    <tr>\n",
       "      <th>view</th>\n",
       "      <td>0.397299</td>\n",
       "      <td>0.082183</td>\n",
       "      <td>0.187754</td>\n",
       "      <td>0.284628</td>\n",
       "      <td>0.074704</td>\n",
       "      <td>0.029445</td>\n",
       "      <td>0.401857</td>\n",
       "      <td>1.000000</td>\n",
       "      <td>0.046022</td>\n",
       "      <td>0.251309</td>\n",
       "      <td>0.167653</td>\n",
       "      <td>0.276973</td>\n",
       "      <td>-0.053482</td>\n",
       "      <td>0.104037</td>\n",
       "      <td>0.084842</td>\n",
       "      <td>0.006170</td>\n",
       "      <td>-0.078430</td>\n",
       "      <td>0.280425</td>\n",
       "      <td>0.072567</td>\n",
       "    </tr>\n",
       "    <tr>\n",
       "      <th>condition</th>\n",
       "      <td>0.036335</td>\n",
       "      <td>0.025765</td>\n",
       "      <td>-0.124918</td>\n",
       "      <td>-0.058677</td>\n",
       "      <td>-0.008942</td>\n",
       "      <td>-0.263686</td>\n",
       "      <td>0.016663</td>\n",
       "      <td>0.046022</td>\n",
       "      <td>1.000000</td>\n",
       "      <td>-0.144650</td>\n",
       "      <td>-0.158118</td>\n",
       "      <td>0.174081</td>\n",
       "      <td>-0.361463</td>\n",
       "      <td>-0.060496</td>\n",
       "      <td>0.002988</td>\n",
       "      <td>-0.015049</td>\n",
       "      <td>-0.106457</td>\n",
       "      <td>-0.092757</td>\n",
       "      <td>-0.003381</td>\n",
       "    </tr>\n",
       "    <tr>\n",
       "      <th>grade</th>\n",
       "      <td>0.667451</td>\n",
       "      <td>0.367323</td>\n",
       "      <td>0.665033</td>\n",
       "      <td>0.762751</td>\n",
       "      <td>0.113611</td>\n",
       "      <td>0.458208</td>\n",
       "      <td>0.082772</td>\n",
       "      <td>0.251309</td>\n",
       "      <td>-0.144650</td>\n",
       "      <td>1.000000</td>\n",
       "      <td>0.755953</td>\n",
       "      <td>0.168433</td>\n",
       "      <td>0.446942</td>\n",
       "      <td>0.014540</td>\n",
       "      <td>-0.184841</td>\n",
       "      <td>0.114111</td>\n",
       "      <td>0.198334</td>\n",
       "      <td>0.713193</td>\n",
       "      <td>0.119235</td>\n",
       "    </tr>\n",
       "    <tr>\n",
       "      <th>sqft_above</th>\n",
       "      <td>0.605601</td>\n",
       "      <td>0.491122</td>\n",
       "      <td>0.685329</td>\n",
       "      <td>0.876594</td>\n",
       "      <td>0.183518</td>\n",
       "      <td>0.523852</td>\n",
       "      <td>0.072076</td>\n",
       "      <td>0.167653</td>\n",
       "      <td>-0.158118</td>\n",
       "      <td>0.755953</td>\n",
       "      <td>1.000000</td>\n",
       "      <td>-0.051943</td>\n",
       "      <td>0.423978</td>\n",
       "      <td>0.023126</td>\n",
       "      <td>-0.261200</td>\n",
       "      <td>-0.000777</td>\n",
       "      <td>0.343830</td>\n",
       "      <td>0.731909</td>\n",
       "      <td>0.194054</td>\n",
       "    </tr>\n",
       "    <tr>\n",
       "      <th>sqft_basement</th>\n",
       "      <td>0.323817</td>\n",
       "      <td>0.309729</td>\n",
       "      <td>0.283763</td>\n",
       "      <td>0.435048</td>\n",
       "      <td>0.015301</td>\n",
       "      <td>-0.245722</td>\n",
       "      <td>0.080595</td>\n",
       "      <td>0.276973</td>\n",
       "      <td>0.174081</td>\n",
       "      <td>0.168433</td>\n",
       "      <td>-0.051943</td>\n",
       "      <td>1.000000</td>\n",
       "      <td>-0.133056</td>\n",
       "      <td>0.071215</td>\n",
       "      <td>0.074816</td>\n",
       "      <td>0.110516</td>\n",
       "      <td>-0.144715</td>\n",
       "      <td>0.200422</td>\n",
       "      <td>0.017295</td>\n",
       "    </tr>\n",
       "    <tr>\n",
       "      <th>yr_built</th>\n",
       "      <td>0.054022</td>\n",
       "      <td>0.160143</td>\n",
       "      <td>0.506162</td>\n",
       "      <td>0.318152</td>\n",
       "      <td>0.053057</td>\n",
       "      <td>0.489427</td>\n",
       "      <td>-0.026174</td>\n",
       "      <td>-0.053482</td>\n",
       "      <td>-0.361463</td>\n",
       "      <td>0.446942</td>\n",
       "      <td>0.423978</td>\n",
       "      <td>-0.133056</td>\n",
       "      <td>1.000000</td>\n",
       "      <td>-0.224622</td>\n",
       "      <td>-0.346843</td>\n",
       "      <td>-0.148106</td>\n",
       "      <td>0.409291</td>\n",
       "      <td>0.326165</td>\n",
       "      <td>0.070930</td>\n",
       "    </tr>\n",
       "    <tr>\n",
       "      <th>yr_renovated</th>\n",
       "      <td>0.126515</td>\n",
       "      <td>0.017802</td>\n",
       "      <td>0.050509</td>\n",
       "      <td>0.055168</td>\n",
       "      <td>0.007699</td>\n",
       "      <td>0.006126</td>\n",
       "      <td>0.092952</td>\n",
       "      <td>0.104037</td>\n",
       "      <td>-0.060496</td>\n",
       "      <td>0.014540</td>\n",
       "      <td>0.023126</td>\n",
       "      <td>0.071215</td>\n",
       "      <td>-0.224622</td>\n",
       "      <td>1.000000</td>\n",
       "      <td>0.064281</td>\n",
       "      <td>0.029429</td>\n",
       "      <td>-0.068186</td>\n",
       "      <td>-0.002501</td>\n",
       "      <td>0.007918</td>\n",
       "    </tr>\n",
       "    <tr>\n",
       "      <th>zipcode</th>\n",
       "      <td>-0.053208</td>\n",
       "      <td>-0.157555</td>\n",
       "      <td>-0.203894</td>\n",
       "      <td>-0.199452</td>\n",
       "      <td>-0.129566</td>\n",
       "      <td>-0.059127</td>\n",
       "      <td>0.030289</td>\n",
       "      <td>0.084842</td>\n",
       "      <td>0.002988</td>\n",
       "      <td>-0.184841</td>\n",
       "      <td>-0.261200</td>\n",
       "      <td>0.074816</td>\n",
       "      <td>-0.346843</td>\n",
       "      <td>0.064281</td>\n",
       "      <td>1.000000</td>\n",
       "      <td>0.267037</td>\n",
       "      <td>-0.564058</td>\n",
       "      <td>-0.279006</td>\n",
       "      <td>-0.147210</td>\n",
       "    </tr>\n",
       "    <tr>\n",
       "      <th>lat</th>\n",
       "      <td>0.306998</td>\n",
       "      <td>-0.010547</td>\n",
       "      <td>0.024596</td>\n",
       "      <td>0.052555</td>\n",
       "      <td>-0.085676</td>\n",
       "      <td>0.049657</td>\n",
       "      <td>-0.014270</td>\n",
       "      <td>0.006170</td>\n",
       "      <td>-0.015049</td>\n",
       "      <td>0.114111</td>\n",
       "      <td>-0.000777</td>\n",
       "      <td>0.110516</td>\n",
       "      <td>-0.148106</td>\n",
       "      <td>0.029429</td>\n",
       "      <td>0.267037</td>\n",
       "      <td>1.000000</td>\n",
       "      <td>-0.135486</td>\n",
       "      <td>0.048900</td>\n",
       "      <td>-0.086409</td>\n",
       "    </tr>\n",
       "    <tr>\n",
       "      <th>long</th>\n",
       "      <td>0.021635</td>\n",
       "      <td>0.134518</td>\n",
       "      <td>0.223097</td>\n",
       "      <td>0.240270</td>\n",
       "      <td>0.229511</td>\n",
       "      <td>0.125440</td>\n",
       "      <td>-0.041920</td>\n",
       "      <td>-0.078430</td>\n",
       "      <td>-0.106457</td>\n",
       "      <td>0.198334</td>\n",
       "      <td>0.343830</td>\n",
       "      <td>-0.144715</td>\n",
       "      <td>0.409291</td>\n",
       "      <td>-0.068186</td>\n",
       "      <td>-0.564058</td>\n",
       "      <td>-0.135486</td>\n",
       "      <td>1.000000</td>\n",
       "      <td>0.334554</td>\n",
       "      <td>0.254438</td>\n",
       "    </tr>\n",
       "    <tr>\n",
       "      <th>sqft_living15</th>\n",
       "      <td>0.585412</td>\n",
       "      <td>0.403613</td>\n",
       "      <td>0.568699</td>\n",
       "      <td>0.756486</td>\n",
       "      <td>0.144595</td>\n",
       "      <td>0.279902</td>\n",
       "      <td>0.086459</td>\n",
       "      <td>0.280425</td>\n",
       "      <td>-0.092757</td>\n",
       "      <td>0.713193</td>\n",
       "      <td>0.731909</td>\n",
       "      <td>0.200422</td>\n",
       "      <td>0.326165</td>\n",
       "      <td>-0.002501</td>\n",
       "      <td>-0.279006</td>\n",
       "      <td>0.048900</td>\n",
       "      <td>0.334554</td>\n",
       "      <td>1.000000</td>\n",
       "      <td>0.183175</td>\n",
       "    </tr>\n",
       "    <tr>\n",
       "      <th>sqft_lot15</th>\n",
       "      <td>0.082451</td>\n",
       "      <td>0.030564</td>\n",
       "      <td>0.087188</td>\n",
       "      <td>0.183298</td>\n",
       "      <td>0.718555</td>\n",
       "      <td>-0.011270</td>\n",
       "      <td>0.030701</td>\n",
       "      <td>0.072567</td>\n",
       "      <td>-0.003381</td>\n",
       "      <td>0.119235</td>\n",
       "      <td>0.194054</td>\n",
       "      <td>0.017295</td>\n",
       "      <td>0.070930</td>\n",
       "      <td>0.007918</td>\n",
       "      <td>-0.147210</td>\n",
       "      <td>-0.086409</td>\n",
       "      <td>0.254438</td>\n",
       "      <td>0.183175</td>\n",
       "      <td>1.000000</td>\n",
       "    </tr>\n",
       "  </tbody>\n",
       "</table>\n",
       "</div>"
      ],
      "text/plain": [
       "                  price  bedrooms  bathrooms  sqft_living  sqft_lot    floors  \\\n",
       "price          1.000000  0.315983   0.525166     0.702066  0.089663  0.256818   \n",
       "bedrooms       0.315983  1.000000   0.529594     0.592060  0.032956  0.181020   \n",
       "bathrooms      0.525166  0.529594   1.000000     0.754650  0.087751  0.500621   \n",
       "sqft_living    0.702066  0.592060   0.754650     1.000000  0.172837  0.353909   \n",
       "sqft_lot       0.089663  0.032956   0.087751     0.172837  1.000000 -0.005200   \n",
       "floors         0.256818  0.181020   0.500621     0.353909 -0.005200  1.000000   \n",
       "waterfront     0.266371 -0.006588   0.063749     0.103823  0.021602  0.023699   \n",
       "view           0.397299  0.082183   0.187754     0.284628  0.074704  0.029445   \n",
       "condition      0.036335  0.025765  -0.124918    -0.058677 -0.008942 -0.263686   \n",
       "grade          0.667451  0.367323   0.665033     0.762751  0.113611  0.458208   \n",
       "sqft_above     0.605601  0.491122   0.685329     0.876594  0.183518  0.523852   \n",
       "sqft_basement  0.323817  0.309729   0.283763     0.435048  0.015301 -0.245722   \n",
       "yr_built       0.054022  0.160143   0.506162     0.318152  0.053057  0.489427   \n",
       "yr_renovated   0.126515  0.017802   0.050509     0.055168  0.007699  0.006126   \n",
       "zipcode       -0.053208 -0.157555  -0.203894    -0.199452 -0.129566 -0.059127   \n",
       "lat            0.306998 -0.010547   0.024596     0.052555 -0.085676  0.049657   \n",
       "long           0.021635  0.134518   0.223097     0.240270  0.229511  0.125440   \n",
       "sqft_living15  0.585412  0.403613   0.568699     0.756486  0.144595  0.279902   \n",
       "sqft_lot15     0.082451  0.030564   0.087188     0.183298  0.718555 -0.011270   \n",
       "\n",
       "               waterfront      view  condition     grade  sqft_above  \\\n",
       "price            0.266371  0.397299   0.036335  0.667451    0.605601   \n",
       "bedrooms        -0.006588  0.082183   0.025765  0.367323    0.491122   \n",
       "bathrooms        0.063749  0.187754  -0.124918  0.665033    0.685329   \n",
       "sqft_living      0.103823  0.284628  -0.058677  0.762751    0.876594   \n",
       "sqft_lot         0.021602  0.074704  -0.008942  0.113611    0.183518   \n",
       "floors           0.023699  0.029445  -0.263686  0.458208    0.523852   \n",
       "waterfront       1.000000  0.401857   0.016663  0.082772    0.072076   \n",
       "view             0.401857  1.000000   0.046022  0.251309    0.167653   \n",
       "condition        0.016663  0.046022   1.000000 -0.144650   -0.158118   \n",
       "grade            0.082772  0.251309  -0.144650  1.000000    0.755953   \n",
       "sqft_above       0.072076  0.167653  -0.158118  0.755953    1.000000   \n",
       "sqft_basement    0.080595  0.276973   0.174081  0.168433   -0.051943   \n",
       "yr_built        -0.026174 -0.053482  -0.361463  0.446942    0.423978   \n",
       "yr_renovated     0.092952  0.104037  -0.060496  0.014540    0.023126   \n",
       "zipcode          0.030289  0.084842   0.002988 -0.184841   -0.261200   \n",
       "lat             -0.014270  0.006170  -0.015049  0.114111   -0.000777   \n",
       "long            -0.041920 -0.078430  -0.106457  0.198334    0.343830   \n",
       "sqft_living15    0.086459  0.280425  -0.092757  0.713193    0.731909   \n",
       "sqft_lot15       0.030701  0.072567  -0.003381  0.119235    0.194054   \n",
       "\n",
       "               sqft_basement  yr_built  yr_renovated   zipcode       lat  \\\n",
       "price               0.323817  0.054022      0.126515 -0.053208  0.306998   \n",
       "bedrooms            0.309729  0.160143      0.017802 -0.157555 -0.010547   \n",
       "bathrooms           0.283763  0.506162      0.050509 -0.203894  0.024596   \n",
       "sqft_living         0.435048  0.318152      0.055168 -0.199452  0.052555   \n",
       "sqft_lot            0.015301  0.053057      0.007699 -0.129566 -0.085676   \n",
       "floors             -0.245722  0.489427      0.006126 -0.059127  0.049657   \n",
       "waterfront          0.080595 -0.026174      0.092952  0.030289 -0.014270   \n",
       "view                0.276973 -0.053482      0.104037  0.084842  0.006170   \n",
       "condition           0.174081 -0.361463     -0.060496  0.002988 -0.015049   \n",
       "grade               0.168433  0.446942      0.014540 -0.184841  0.114111   \n",
       "sqft_above         -0.051943  0.423978      0.023126 -0.261200 -0.000777   \n",
       "sqft_basement       1.000000 -0.133056      0.071215  0.074816  0.110516   \n",
       "yr_built           -0.133056  1.000000     -0.224622 -0.346843 -0.148106   \n",
       "yr_renovated        0.071215 -0.224622      1.000000  0.064281  0.029429   \n",
       "zipcode             0.074816 -0.346843      0.064281  1.000000  0.267037   \n",
       "lat                 0.110516 -0.148106      0.029429  0.267037  1.000000   \n",
       "long               -0.144715  0.409291     -0.068186 -0.564058 -0.135486   \n",
       "sqft_living15       0.200422  0.326165     -0.002501 -0.279006  0.048900   \n",
       "sqft_lot15          0.017295  0.070930      0.007918 -0.147210 -0.086409   \n",
       "\n",
       "                   long  sqft_living15  sqft_lot15  \n",
       "price          0.021635       0.585412    0.082451  \n",
       "bedrooms       0.134518       0.403613    0.030564  \n",
       "bathrooms      0.223097       0.568699    0.087188  \n",
       "sqft_living    0.240270       0.756486    0.183298  \n",
       "sqft_lot       0.229511       0.144595    0.718555  \n",
       "floors         0.125440       0.279902   -0.011270  \n",
       "waterfront    -0.041920       0.086459    0.030701  \n",
       "view          -0.078430       0.280425    0.072567  \n",
       "condition     -0.106457      -0.092757   -0.003381  \n",
       "grade          0.198334       0.713193    0.119235  \n",
       "sqft_above     0.343830       0.731909    0.194054  \n",
       "sqft_basement -0.144715       0.200422    0.017295  \n",
       "yr_built       0.409291       0.326165    0.070930  \n",
       "yr_renovated  -0.068186      -0.002501    0.007918  \n",
       "zipcode       -0.564058      -0.279006   -0.147210  \n",
       "lat           -0.135486       0.048900   -0.086409  \n",
       "long           1.000000       0.334554    0.254438  \n",
       "sqft_living15  0.334554       1.000000    0.183175  \n",
       "sqft_lot15     0.254438       0.183175    1.000000  "
      ]
     },
     "execution_count": 171,
     "metadata": {},
     "output_type": "execute_result"
    }
   ],
   "source": [
    "cmat  = df_num.corr()\n",
    "cmat "
   ]
  },
  {
   "cell_type": "code",
   "execution_count": 172,
   "metadata": {},
   "outputs": [
    {
     "data": {
      "text/plain": [
       "<matplotlib.axes._subplots.AxesSubplot at 0x1c96ea43588>"
      ]
     },
     "execution_count": 172,
     "metadata": {},
     "output_type": "execute_result"
    },
    {
     "data": {
      "image/png": "[encoded data removed]",
      "text/plain": [
       "<Figure size 1080x864 with 2 Axes>"
      ]
     },
     "metadata": {},
     "output_type": "display_data"
    }
   ],
   "source": [
    "plt.subplots(figsize=(15,12))\n",
    "sns.heatmap(df.corr(),cmap='viridis')"
   ]
  },
  {
   "cell_type": "code",
   "execution_count": 220,
   "metadata": {},
   "outputs": [
    {
     "data": {
      "text/plain": [
       "<matplotlib.axes._subplots.AxesSubplot at 0x1c971419f28>"
      ]
     },
     "execution_count": 220,
     "metadata": {},
     "output_type": "execute_result"
    },
    {
     "data": {
      "image/png": "[encoded data removed]",
      "text/plain": [
       "<Figure size 432x288 with 1 Axes>"
      ]
     },
     "metadata": {},
     "output_type": "display_data"
    }
   ],
   "source": [
    "df_num.plot()"
   ]
  },
  {
   "cell_type": "code",
   "execution_count": 173,
   "metadata": {},
   "outputs": [
    {
     "name": "stdout",
     "output_type": "stream",
     "text": [
      "Index(['price', 'sqft_living', 'grade', 'sqft_above', 'sqft_living15',\n",
      "       'bathrooms', 'view'],\n",
      "      dtype='object')\n"
     ]
    }
   ],
   "source": [
    "cols = cmat.nlargest(7, 'price')['price'].index\n",
    "print(cols)\n",
    "cm = np.corrcoef(df_num[cols].values.T)"
   ]
  },
  {
   "cell_type": "code",
   "execution_count": 174,
   "metadata": {
    "scrolled": true
   },
   "outputs": [
    {
     "data": {
      "image/png": "[encoded data removed]",
      "text/plain": [
       "<Figure size 576x504 with 2 Axes>"
      ]
     },
     "metadata": {},
     "output_type": "display_data"
    }
   ],
   "source": [
    "plt.subplots(figsize=(8,7))\n",
    "sns.set(font_scale=1)\n",
    "#checking for the largest pearson values\n",
    "hm = sns.heatmap(cm,cmap='viridis' ,cbar=True, annot=True, square=True, fmt='.2f', annot_kws={'size': 12}, yticklabels=cols.values, xticklabels=cols.values)\n",
    "plt.show()"
   ]
  },
  {
   "cell_type": "code",
   "execution_count": 175,
   "metadata": {},
   "outputs": [],
   "source": [
    "df.drop(['sqft_above','sqft_living15'],axis=1,inplace=True)"
   ]
  },
  {
   "cell_type": "code",
   "execution_count": 176,
   "metadata": {},
   "outputs": [],
   "source": [
    "df.drop('date',axis=1,inplace=True)"
   ]
  },
  {
   "cell_type": "code",
   "execution_count": 41,
   "metadata": {},
   "outputs": [],
   "source": [
    "# sns.regplot(df.grade,df.price)"
   ]
  },
  {
   "cell_type": "markdown",
   "metadata": {},
   "source": [
    "__The reason here for dropping the cols(sqft_above & sqft_living) are they are forming high correlation with the attribute (\n",
    "sqft_living), hence dropped in order to prevent multi-collinearity__"
   ]
  },
  {
   "cell_type": "markdown",
   "metadata": {},
   "source": [
    "## Building a Model"
   ]
  },
  {
   "cell_type": "markdown",
   "metadata": {},
   "source": [
    "Here, I am performing one-hot encoding on 2 attributes which are categorical variables, to convert them into a form that could be provided to ML algorithm to do a better job in prediction\n",
    "\n",
    "### One-Hot encoding "
   ]
  },
  {
   "cell_type": "code",
   "execution_count": 177,
   "metadata": {},
   "outputs": [],
   "source": [
    "onehot_view = pd.get_dummies(df['view'])\n",
    "df = df.join(onehot_view)"
   ]
  },
  {
   "cell_type": "code",
   "execution_count": 185,
   "metadata": {},
   "outputs": [],
   "source": [
    "df.columns = df.columns.astype(str)"
   ]
  },
  {
   "cell_type": "code",
   "execution_count": 182,
   "metadata": {},
   "outputs": [],
   "source": [
    "df.rename(columns= {\"0\": \"view_0\",\"1\":\"view_1\",\"2\":\"view_2\",\"3\":\"view_3\",\"4\":\"view_4\"},inplace = True) "
   ]
  },
  {
   "cell_type": "code",
   "execution_count": null,
   "metadata": {},
   "outputs": [],
   "source": [
    "onehot_condition = pd.get_dummies(df['condition'])\n",
    "df = df.join(onehot_condition)"
   ]
  },
  {
   "cell_type": "code",
   "execution_count": 185,
   "metadata": {},
   "outputs": [],
   "source": [
    "df.columns = df.columns.astype(str)"
   ]
  },
  {
   "cell_type": "code",
   "execution_count": 186,
   "metadata": {},
   "outputs": [],
   "source": [
    "df.rename(columns= {\"1\":\"condition_1\",\"2\":\"condition_2\",\"3\":\"condition_3\",\"4\":\"condition_4\",\"5\" : \"condition_5\"},inplace = True) "
   ]
  },
  {
   "cell_type": "code",
   "execution_count": 188,
   "metadata": {},
   "outputs": [],
   "source": [
    "df.drop(['view','condition'],axis=1,inplace=True)"
   ]
  },
  {
   "cell_type": "code",
   "execution_count": 189,
   "metadata": {},
   "outputs": [
    {
     "data": {
      "text/plain": [
       "Index(['id', 'price', 'bedrooms', 'bathrooms', 'sqft_living', 'sqft_lot',\n",
       "       'floors', 'waterfront', 'grade', 'sqft_basement', 'yr_built',\n",
       "       'yr_renovated', 'zipcode', 'lat', 'long', 'sqft_lot15', 'view_0',\n",
       "       'view_1', 'view_2', 'view_3', 'view_4', 'condition_1', 'condition_2',\n",
       "       'condition_3', 'condition_4', 'condition_5'],\n",
       "      dtype='object')"
      ]
     },
     "execution_count": 189,
     "metadata": {},
     "output_type": "execute_result"
    }
   ],
   "source": [
    "df.columns"
   ]
  },
  {
   "cell_type": "code",
   "execution_count": 190,
   "metadata": {},
   "outputs": [],
   "source": [
    "#one-hot encoding has resulted in to a dummy variable trap, because of which we have to drop the below 2 attributes.\n",
    "df.drop(['view_2','condition_3'],axis=1,inplace=True)    "
   ]
  },
  {
   "cell_type": "code",
   "execution_count": 191,
   "metadata": {},
   "outputs": [],
   "source": [
    "X = df.drop('price',axis=1)          #attributes \n",
    "y = df['price']                       #target "
   ]
  },
  {
   "cell_type": "code",
   "execution_count": 192,
   "metadata": {},
   "outputs": [
    {
     "name": "stdout",
     "output_type": "stream",
     "text": [
      "(21611, 23) (21611,)\n"
     ]
    }
   ],
   "source": [
    "print(X.shape,y.shape)"
   ]
  },
  {
   "cell_type": "code",
   "execution_count": 193,
   "metadata": {},
   "outputs": [],
   "source": [
    "X_train, X_test, y_train, y_test = train_test_split( X, y, test_size=0.20, random_state=80)             #splliting for building the model"
   ]
  },
  {
   "cell_type": "code",
   "execution_count": 194,
   "metadata": {},
   "outputs": [],
   "source": [
    "model = linear_model.LinearRegression()             #model built "
   ]
  },
  {
   "cell_type": "code",
   "execution_count": 195,
   "metadata": {},
   "outputs": [
    {
     "data": {
      "text/plain": [
       "LinearRegression(copy_X=True, fit_intercept=True, n_jobs=None, normalize=False)"
      ]
     },
     "execution_count": 195,
     "metadata": {},
     "output_type": "execute_result"
    }
   ],
   "source": [
    "model.fit(X_train,y_train)                  #training the model "
   ]
  },
  {
   "cell_type": "code",
   "execution_count": 198,
   "metadata": {},
   "outputs": [
    {
     "name": "stdout",
     "output_type": "stream",
     "text": [
      "Coefficients: \n",
      " [-1.22605013e-06 -4.17196084e+04  4.34973263e+04  1.95242503e+02\n",
      "  1.26201988e-01  4.71237496e+03  5.30370908e+05  9.98361859e+04\n",
      " -3.41956487e+01 -2.72478391e+03  1.84928767e+01 -5.94661833e+02\n",
      "  5.95467241e+05 -1.95515785e+05 -4.50097215e-01 -7.73797086e+04\n",
      "  3.75181611e+04  6.35797067e+04  2.25805807e+05 -3.12373289e+04\n",
      "  1.76106682e+04  2.19054193e+04  6.50144385e+04]\n",
      "Variance score: 0.6907688813501225\n"
     ]
    }
   ],
   "source": [
    "print('Coefficients: \\n', model.coef_) \n",
    "print('Variance score: {}'.format(model.score(X_test, y_test))) "
   ]
  },
  {
   "cell_type": "markdown",
   "metadata": {},
   "source": [
    "The most importance performance metric in regression we look after is \"R-Square\" and \"Adjusted R-Squared\" which measure the goodness of fit for the model "
   ]
  },
  {
   "cell_type": "code",
   "execution_count": 199,
   "metadata": {},
   "outputs": [
    {
     "data": {
      "text/plain": [
       "0.637230860840517"
      ]
     },
     "execution_count": 199,
     "metadata": {},
     "output_type": "execute_result"
    }
   ],
   "source": [
    "from sklearn.metrics import r2_score\n",
    "r2_score(y_test, y_pred)"
   ]
  },
  {
   "cell_type": "code",
   "execution_count": 200,
   "metadata": {},
   "outputs": [
    {
     "data": {
      "image/png": "[encoded data removed]",
      "text/plain": [
       "<Figure size 720x720 with 1 Axes>"
      ]
     },
     "metadata": {},
     "output_type": "display_data"
    }
   ],
   "source": [
    "plt.style.use('fivethirtyeight')  \n",
    "plt.subplots(figsize=(10,10))\n",
    "plt.scatter(model.predict(X_train), model.predict(X_train) - y_train,color = \"blue\", s = 10, label = 'Train data') \n",
    "plt.scatter(model.predict(X_test), model.predict(X_test) - y_test, color = \"red\", s = 10, label = 'Test data') \n",
    "plt.hlines(y = 0, xmin = 0, xmax = 50, linewidth = 2) \n",
    "plt.legend(loc = 'upper left') \n",
    "plt.title(\"Residual errors\") \n",
    "plt.show() "
   ]
  }
 ],
 "metadata": {
  "kernelspec": {
   "display_name": "Python 3",
   "language": "python",
   "name": "python3"
  },
  "language_info": {
   "codemirror_mode": {
    "name": "ipython",
    "version": 3
   },
   "file_extension": ".py",
   "mimetype": "text/x-python",
   "name": "python",
   "nbconvert_exporter": "python",
   "pygments_lexer": "ipython3",
   "version": "3.7.3"
  }
 },
 "nbformat": 4,
 "nbformat_minor": 2
}
